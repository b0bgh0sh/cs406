{
 "cells": [
  {
   "cell_type": "markdown",
   "metadata": {},
   "source": [
    "# Bob Ghosh, 42039157, j0k0b\n",
    "# Assignment 2, CPSC 406, January 29"
   ]
  },
  {
   "cell_type": "markdown",
   "metadata": {},
   "source": [
    "## Collaborations\n",
    "Shrey Verma, 24552151: Question 1 <br>\n",
    "Shikhar Nandi, 51931153: Question 2"
   ]
  },
  {
   "cell_type": "markdown",
   "metadata": {},
   "source": [
    "## Libraries"
   ]
  },
  {
   "cell_type": "code",
   "execution_count": 119,
   "metadata": {},
   "outputs": [],
   "source": [
    "using JLD\n",
    "using LinearAlgebra\n",
    "using Convex\n",
    "using SCS\n",
    "using Plots"
   ]
  },
  {
   "cell_type": "markdown",
   "metadata": {},
   "source": [
    "## Question 1"
   ]
  },
  {
   "cell_type": "markdown",
   "metadata": {},
   "source": [
    "#### Proof by Contradiction:\n",
    "Let us assume that $null(A) \\cap null(\\mathcal{L}) \\neq \\{0\\}$.\n",
    "That is to state that a non-zero solution $\\tilde x$ exists in both $null(A)$ and $null(\\mathcal{L})$. <br><br>\n",
    "\n",
    "Secondly, let us assume that $null(A) \\cap null(\\mathcal{L}) = \\{0\\}$ results in a unique solution to the problem defined $x$. <br><br>\n",
    "\n",
    "Now, if we define $x^* = \\tilde x + x$, then:<br>\n",
    "$f(x^*) = ||Ax^*-b||_2^2 + \\lambda||\\mathcal{L}x^*||_2^2$<br>\n",
    " = $||A\\tilde x + Ax-b||_2^2 + \\lambda||\\mathcal{L}\\tilde x + \\mathcal {L}x||_2^2$ <br>\n",
    " = $||Ax-b||_2^2  + \\lambda||\\mathcal{L}x||_2^2$<br><br>\n",
    "Since $\\tilde x$ is a non zero solution in both $null(A) \\cap null(\\mathcal{L})$, we get the same solution as $f(x)$. Thus we have reached a point of contradiction. A zero unique solution $x$ and $\\tilde x + x$ result in the same solution."
   ]
  },
  {
   "cell_type": "markdown",
   "metadata": {},
   "source": [
    "#### Proof by Cases:\n",
    "Let us now take the gradient of the function $f(x)$:<br>\n",
    "$\\nabla f(x) = 2A^T(Ax-b) + 2 \\lambda \\mathcal{L}^T \\mathcal{L}x$<br>\n",
    "Let $\\nabla f(x) = 0$<br>\n",
    "We get, $(A^TA+\\lambda \\mathcal{L}^T \\mathcal{L})x = A^TAb$."
   ]
  },
  {
   "cell_type": "markdown",
   "metadata": {},
   "source": [
    "We know that $A^TA$ and $\\mathcal{L}^T\\mathcal{L}$ are both $>0$. So, in order to prove that they both are positive definite we need to prove $u^TA^TAu$ and $u^T\\mathcal{L}^T\\mathcal{L}u$ to be $>0$ for some  non-zero $u$. If we are able to prove that they are positve-definite, then we will know for sure that the problem has an unique solution iff $null(A) \\cap null(\\mathcal{L}) = \\{0\\}$. We also know that $\\lambda  > 0$."
   ]
  },
  {
   "cell_type": "markdown",
   "metadata": {},
   "source": [
    "<B>Case 1:</B> $(u\\in null(A))\\cap (u\\notin null(\\mathcal{L}))$<br>\n",
    "$u^T(A^TA+\\lambda \\mathcal{L}^T \\mathcal{L})u$ <br>\n",
    "$= u^T\\lambda\\mathcal{L}^T\\mathcal{L} > 0$"
   ]
  },
  {
   "cell_type": "markdown",
   "metadata": {},
   "source": [
    "<B>Case 2:</B> $(u\\notin null(A))\\cap (u\\in null(\\mathcal{L}))$<br>\n",
    "$u^T(A^TA+\\lambda \\mathcal{L}^T \\mathcal{L})u$ <br>\n",
    "$= u^TA^TAu > 0$"
   ]
  },
  {
   "cell_type": "markdown",
   "metadata": {},
   "source": [
    "<B>Case 3:</B> $(u\\notin null(A))\\cap (u\\notin null(\\mathcal{L}))$<br>\n",
    "$u^T(A^TA+\\lambda \\mathcal{L}^T \\mathcal{L})u$<br>\n",
    "$= u^TA^TAu + u^T\\lambda \\mathcal{L}^T\\mathcal{L}u > 0$."
   ]
  },
  {
   "cell_type": "markdown",
   "metadata": {},
   "source": [
    "<B>Case 4: $(u \\in null(A)) \\cap (u \\in null(\\mathcal{L}))$</B><br>\n",
    "This is the default case given to us, as $null(A) \\cap null(\\mathcal{L}) = \\{0\\}$."
   ]
  },
  {
   "cell_type": "markdown",
   "metadata": {},
   "source": [
    "Hence, we can now claim that $u^T(A^TA+\\lambda \\mathcal{L}^T \\mathcal{L})u$ is a positive definite, and so there is an unique solution iff $null(A) \\cap null(\\mathcal{L}) = \\{0\\}$."
   ]
  },
  {
   "cell_type": "markdown",
   "metadata": {},
   "source": [
    "## Question 2"
   ]
  },
  {
   "cell_type": "markdown",
   "metadata": {},
   "source": [
    "### a"
   ]
  },
  {
   "cell_type": "markdown",
   "metadata": {},
   "source": [
    "We are given that $g = Q^TA^Tb$ and $A^TA = QDQ^T$ <br>\n",
    "For the sake of simplicity, let us also declare: <br>\n",
    "$ QG = A^Tb $ [1]<br>\n",
    "$ b^TA = G^TQ^T $ [2]<br><br> \n",
    "$||x||_2 = ((A^TA+{\\gamma}I)^{-1}A^Tb)^T(A^TA+{\\gamma}I)^{-1}A^Tb$ <br>\n",
    "$ = b^TA(A^TA+{\\gamma}I^T)^{-1}(A^TA+{\\gamma}I)^{-1}A^Tb$ <br>\n",
    "$ = b^TA((A^TA+{\\gamma}I^T)(A^TA+{\\gamma}I))^{-1}A^Tb$ <br>\n",
    "$ = b^TA(A^TAA^TA+A^TA{\\gamma}I^T+{\\gamma}IA^TA+{\\gamma}^2I)^{-1}A^Tb$ <br>\n",
    "$ = b^TA(A^TAA^TA+2{\\gamma}IA^TA+{\\gamma}^2I)^{-1}A^Tb$ <br>\n",
    "$= b^TA(A^TAA^TA+2{\\gamma}IA^TA+{\\gamma}^2I)^{-1}A^Tb$ <br>\n",
    "$ = G^TQ^T(QDQ^TQDQ^T+2{\\gamma}IQDQ^T+{\\gamma}^2I)^{-1}QG$ [From 1 and 2]<br>\n",
    "$ = G^TQ^T(QD^2Q^T+2{\\gamma}IQDQ^T+{\\gamma}^2I)^{-1}QG $ <br>\n",
    "$ = G^TQ^T(QDQ^T+{\\gamma}I)^{-2}QG$ <br><br>\n",
    "$ = \\frac{G^TQ^TQG}{(QDQ^T+{\\gamma}I)^2}$ <br><br>\n",
    "$ = \\frac{G^TG}{(QDQ^T+{\\gamma}I)^2}$ <br>"
   ]
  },
  {
   "cell_type": "code",
   "execution_count": 230,
   "metadata": {},
   "outputs": [
    {
     "data": {
      "image/svg+xml": [
       "<?xml version=\"1.0\" encoding=\"utf-8\"?>\n",
       "<svg xmlns=\"http://www.w3.org/2000/svg\" xmlns:xlink=\"http://www.w3.org/1999/xlink\" width=\"600\" height=\"400\" viewBox=\"0 0 2400 1600\">\n",
       "<defs>\n",
       "  <clipPath id=\"clip1900\">\n",
       "    <rect x=\"0\" y=\"0\" width=\"2400\" height=\"1600\"/>\n",
       "  </clipPath>\n",
       "</defs>\n",
       "<path clip-path=\"url(#clip1900)\" d=\"\n",
       "M0 1600 L2400 1600 L2400 0 L0 0  Z\n",
       "  \" fill=\"#ffffff\" fill-rule=\"evenodd\" fill-opacity=\"1\"/>\n",
       "<defs>\n",
       "  <clipPath id=\"clip1901\">\n",
       "    <rect x=\"480\" y=\"0\" width=\"1681\" height=\"1600\"/>\n",
       "  </clipPath>\n",
       "</defs>\n",
       "<path clip-path=\"url(#clip1900)\" d=\"\n",
       "M215.754 1425.62 L2352.76 1425.62 L2352.76 121.675 L215.754 121.675  Z\n",
       "  \" fill=\"#ffffff\" fill-rule=\"evenodd\" fill-opacity=\"1\"/>\n",
       "<defs>\n",
       "  <clipPath id=\"clip1902\">\n",
       "    <rect x=\"215\" y=\"121\" width=\"2138\" height=\"1305\"/>\n",
       "  </clipPath>\n",
       "</defs>\n",
       "<polyline clip-path=\"url(#clip1902)\" style=\"stroke:#000000; stroke-width:2; stroke-opacity:0.1; fill:none\" points=\"\n",
       "  545.637,1425.62 545.637,121.675 \n",
       "  \"/>\n",
       "<polyline clip-path=\"url(#clip1902)\" style=\"stroke:#000000; stroke-width:2; stroke-opacity:0.1; fill:none\" points=\"\n",
       "  934.412,1425.62 934.412,121.675 \n",
       "  \"/>\n",
       "<polyline clip-path=\"url(#clip1902)\" style=\"stroke:#000000; stroke-width:2; stroke-opacity:0.1; fill:none\" points=\"\n",
       "  1323.19,1425.62 1323.19,121.675 \n",
       "  \"/>\n",
       "<polyline clip-path=\"url(#clip1902)\" style=\"stroke:#000000; stroke-width:2; stroke-opacity:0.1; fill:none\" points=\"\n",
       "  1711.96,1425.62 1711.96,121.675 \n",
       "  \"/>\n",
       "<polyline clip-path=\"url(#clip1902)\" style=\"stroke:#000000; stroke-width:2; stroke-opacity:0.1; fill:none\" points=\"\n",
       "  2100.74,1425.62 2100.74,121.675 \n",
       "  \"/>\n",
       "<polyline clip-path=\"url(#clip1902)\" style=\"stroke:#000000; stroke-width:2; stroke-opacity:0.1; fill:none\" points=\"\n",
       "  215.754,1388.71 2352.76,1388.71 \n",
       "  \"/>\n",
       "<polyline clip-path=\"url(#clip1902)\" style=\"stroke:#000000; stroke-width:2; stroke-opacity:0.1; fill:none\" points=\"\n",
       "  215.754,1207.18 2352.76,1207.18 \n",
       "  \"/>\n",
       "<polyline clip-path=\"url(#clip1902)\" style=\"stroke:#000000; stroke-width:2; stroke-opacity:0.1; fill:none\" points=\"\n",
       "  215.754,1025.66 2352.76,1025.66 \n",
       "  \"/>\n",
       "<polyline clip-path=\"url(#clip1902)\" style=\"stroke:#000000; stroke-width:2; stroke-opacity:0.1; fill:none\" points=\"\n",
       "  215.754,844.126 2352.76,844.126 \n",
       "  \"/>\n",
       "<polyline clip-path=\"url(#clip1902)\" style=\"stroke:#000000; stroke-width:2; stroke-opacity:0.1; fill:none\" points=\"\n",
       "  215.754,662.596 2352.76,662.596 \n",
       "  \"/>\n",
       "<polyline clip-path=\"url(#clip1902)\" style=\"stroke:#000000; stroke-width:2; stroke-opacity:0.1; fill:none\" points=\"\n",
       "  215.754,481.066 2352.76,481.066 \n",
       "  \"/>\n",
       "<polyline clip-path=\"url(#clip1902)\" style=\"stroke:#000000; stroke-width:2; stroke-opacity:0.1; fill:none\" points=\"\n",
       "  215.754,299.537 2352.76,299.537 \n",
       "  \"/>\n",
       "<polyline clip-path=\"url(#clip1900)\" style=\"stroke:#000000; stroke-width:4; stroke-opacity:1; fill:none\" points=\"\n",
       "  215.754,1425.62 2352.76,1425.62 \n",
       "  \"/>\n",
       "<polyline clip-path=\"url(#clip1900)\" style=\"stroke:#000000; stroke-width:4; stroke-opacity:1; fill:none\" points=\"\n",
       "  215.754,1425.62 215.754,121.675 \n",
       "  \"/>\n",
       "<polyline clip-path=\"url(#clip1900)\" style=\"stroke:#000000; stroke-width:4; stroke-opacity:1; fill:none\" points=\"\n",
       "  545.637,1425.62 545.637,1409.97 \n",
       "  \"/>\n",
       "<polyline clip-path=\"url(#clip1900)\" style=\"stroke:#000000; stroke-width:4; stroke-opacity:1; fill:none\" points=\"\n",
       "  934.412,1425.62 934.412,1409.97 \n",
       "  \"/>\n",
       "<polyline clip-path=\"url(#clip1900)\" style=\"stroke:#000000; stroke-width:4; stroke-opacity:1; fill:none\" points=\"\n",
       "  1323.19,1425.62 1323.19,1409.97 \n",
       "  \"/>\n",
       "<polyline clip-path=\"url(#clip1900)\" style=\"stroke:#000000; stroke-width:4; stroke-opacity:1; fill:none\" points=\"\n",
       "  1711.96,1425.62 1711.96,1409.97 \n",
       "  \"/>\n",
       "<polyline clip-path=\"url(#clip1900)\" style=\"stroke:#000000; stroke-width:4; stroke-opacity:1; fill:none\" points=\"\n",
       "  2100.74,1425.62 2100.74,1409.97 \n",
       "  \"/>\n",
       "<polyline clip-path=\"url(#clip1900)\" style=\"stroke:#000000; stroke-width:4; stroke-opacity:1; fill:none\" points=\"\n",
       "  215.754,1388.71 241.398,1388.71 \n",
       "  \"/>\n",
       "<polyline clip-path=\"url(#clip1900)\" style=\"stroke:#000000; stroke-width:4; stroke-opacity:1; fill:none\" points=\"\n",
       "  215.754,1207.18 241.398,1207.18 \n",
       "  \"/>\n",
       "<polyline clip-path=\"url(#clip1900)\" style=\"stroke:#000000; stroke-width:4; stroke-opacity:1; fill:none\" points=\"\n",
       "  215.754,1025.66 241.398,1025.66 \n",
       "  \"/>\n",
       "<polyline clip-path=\"url(#clip1900)\" style=\"stroke:#000000; stroke-width:4; stroke-opacity:1; fill:none\" points=\"\n",
       "  215.754,844.126 241.398,844.126 \n",
       "  \"/>\n",
       "<polyline clip-path=\"url(#clip1900)\" style=\"stroke:#000000; stroke-width:4; stroke-opacity:1; fill:none\" points=\"\n",
       "  215.754,662.596 241.398,662.596 \n",
       "  \"/>\n",
       "<polyline clip-path=\"url(#clip1900)\" style=\"stroke:#000000; stroke-width:4; stroke-opacity:1; fill:none\" points=\"\n",
       "  215.754,481.066 241.398,481.066 \n",
       "  \"/>\n",
       "<polyline clip-path=\"url(#clip1900)\" style=\"stroke:#000000; stroke-width:4; stroke-opacity:1; fill:none\" points=\"\n",
       "  215.754,299.537 241.398,299.537 \n",
       "  \"/>\n",
       "<g clip-path=\"url(#clip1900)\">\n",
       "<text style=\"fill:#000000; fill-opacity:1; font-family:Arial,Helvetica Neue,Helvetica,sans-serif; font-size:48px; text-anchor:middle;\" transform=\"rotate(0, 545.637, 1479.62)\" x=\"545.637\" y=\"1479.62\">5.0</text>\n",
       "</g>\n",
       "<g clip-path=\"url(#clip1900)\">\n",
       "<text style=\"fill:#000000; fill-opacity:1; font-family:Arial,Helvetica Neue,Helvetica,sans-serif; font-size:48px; text-anchor:middle;\" transform=\"rotate(0, 934.412, 1479.62)\" x=\"934.412\" y=\"1479.62\">7.5</text>\n",
       "</g>\n",
       "<g clip-path=\"url(#clip1900)\">\n",
       "<text style=\"fill:#000000; fill-opacity:1; font-family:Arial,Helvetica Neue,Helvetica,sans-serif; font-size:48px; text-anchor:middle;\" transform=\"rotate(0, 1323.19, 1479.62)\" x=\"1323.19\" y=\"1479.62\">10.0</text>\n",
       "</g>\n",
       "<g clip-path=\"url(#clip1900)\">\n",
       "<text style=\"fill:#000000; fill-opacity:1; font-family:Arial,Helvetica Neue,Helvetica,sans-serif; font-size:48px; text-anchor:middle;\" transform=\"rotate(0, 1711.96, 1479.62)\" x=\"1711.96\" y=\"1479.62\">12.5</text>\n",
       "</g>\n",
       "<g clip-path=\"url(#clip1900)\">\n",
       "<text style=\"fill:#000000; fill-opacity:1; font-family:Arial,Helvetica Neue,Helvetica,sans-serif; font-size:48px; text-anchor:middle;\" transform=\"rotate(0, 2100.74, 1479.62)\" x=\"2100.74\" y=\"1479.62\">15.0</text>\n",
       "</g>\n",
       "<g clip-path=\"url(#clip1900)\">\n",
       "<text style=\"fill:#000000; fill-opacity:1; font-family:Arial,Helvetica Neue,Helvetica,sans-serif; font-size:48px; text-anchor:end;\" transform=\"rotate(0, 191.754, 1406.21)\" x=\"191.754\" y=\"1406.21\">0.0</text>\n",
       "</g>\n",
       "<g clip-path=\"url(#clip1900)\">\n",
       "<text style=\"fill:#000000; fill-opacity:1; font-family:Arial,Helvetica Neue,Helvetica,sans-serif; font-size:48px; text-anchor:end;\" transform=\"rotate(0, 191.754, 1224.68)\" x=\"191.754\" y=\"1224.68\">0.2</text>\n",
       "</g>\n",
       "<g clip-path=\"url(#clip1900)\">\n",
       "<text style=\"fill:#000000; fill-opacity:1; font-family:Arial,Helvetica Neue,Helvetica,sans-serif; font-size:48px; text-anchor:end;\" transform=\"rotate(0, 191.754, 1043.16)\" x=\"191.754\" y=\"1043.16\">0.4</text>\n",
       "</g>\n",
       "<g clip-path=\"url(#clip1900)\">\n",
       "<text style=\"fill:#000000; fill-opacity:1; font-family:Arial,Helvetica Neue,Helvetica,sans-serif; font-size:48px; text-anchor:end;\" transform=\"rotate(0, 191.754, 861.626)\" x=\"191.754\" y=\"861.626\">0.6</text>\n",
       "</g>\n",
       "<g clip-path=\"url(#clip1900)\">\n",
       "<text style=\"fill:#000000; fill-opacity:1; font-family:Arial,Helvetica Neue,Helvetica,sans-serif; font-size:48px; text-anchor:end;\" transform=\"rotate(0, 191.754, 680.096)\" x=\"191.754\" y=\"680.096\">0.8</text>\n",
       "</g>\n",
       "<g clip-path=\"url(#clip1900)\">\n",
       "<text style=\"fill:#000000; fill-opacity:1; font-family:Arial,Helvetica Neue,Helvetica,sans-serif; font-size:48px; text-anchor:end;\" transform=\"rotate(0, 191.754, 498.566)\" x=\"191.754\" y=\"498.566\">1.0</text>\n",
       "</g>\n",
       "<g clip-path=\"url(#clip1900)\">\n",
       "<text style=\"fill:#000000; fill-opacity:1; font-family:Arial,Helvetica Neue,Helvetica,sans-serif; font-size:48px; text-anchor:end;\" transform=\"rotate(0, 191.754, 317.037)\" x=\"191.754\" y=\"317.037\">1.2</text>\n",
       "</g>\n",
       "<g clip-path=\"url(#clip1900)\">\n",
       "<text style=\"fill:#000000; fill-opacity:1; font-family:Arial,Helvetica Neue,Helvetica,sans-serif; font-size:84px; text-anchor:middle;\" transform=\"rotate(0, 1284.25, 73.2)\" x=\"1284.25\" y=\"73.2\">Pareto Optimality Curve</text>\n",
       "</g>\n",
       "<g clip-path=\"url(#clip1900)\">\n",
       "<text style=\"fill:#000000; fill-opacity:1; font-family:Arial,Helvetica Neue,Helvetica,sans-serif; font-size:66px; text-anchor:middle;\" transform=\"rotate(0, 1284.25, 1559.48)\" x=\"1284.25\" y=\"1559.48\">f2</text>\n",
       "</g>\n",
       "<g clip-path=\"url(#clip1900)\">\n",
       "<text style=\"fill:#000000; fill-opacity:1; font-family:Arial,Helvetica Neue,Helvetica,sans-serif; font-size:66px; text-anchor:middle;\" transform=\"rotate(-90, 89.2861, 773.647)\" x=\"89.2861\" y=\"773.647\">f1</text>\n",
       "</g>\n",
       "<polyline clip-path=\"url(#clip1902)\" style=\"stroke:#009af9; stroke-width:4; stroke-opacity:1; fill:none\" points=\"\n",
       "  276.235,158.579 358.983,569.065 377.08,611.424 401.277,651.788 432.321,692.028 471.163,733.265 514.403,772.168 559.976,807.613 611.83,843.223 668.02,877.782 \n",
       "  727.693,910.974 789.562,942.36 855.174,973.004 926.037,1003.62 1002.13,1034.28 1083.48,1064.91 1170.07,1095.54 1261.92,1126.17 1353.72,1155.14 1449.91,1183.93 \n",
       "  1548.49,1212.01 1642.08,1237.42 1740.02,1262.83 1842.31,1288.23 1946.28,1313.01 2045.02,1335.61 2147.64,1358.21 2254.13,1380.81 2292.27,1388.7 2292.27,1388.71 \n",
       "  2292.27,1388.71 2292.27,1388.71 2292.27,1388.71 2292.27,1388.71 2292.27,1388.71 2292.27,1388.71 2292.27,1388.71 2292.27,1388.7 2292.27,1388.71 2292.27,1388.71 \n",
       "  2292.27,1388.71 2292.27,1388.71 2292.27,1388.71 2292.27,1388.71 2292.27,1388.71 2292.27,1388.71 2292.27,1388.71 2292.27,1388.71 2292.27,1388.7 2292.27,1388.71 \n",
       "  2292.27,1388.7 2292.27,1388.71 2292.27,1388.71 2292.27,1388.71 2292.27,1388.71 2292.27,1388.71 2292.27,1388.71 2292.27,1388.71 2292.27,1388.71 2292.27,1388.71 \n",
       "  2292.27,1388.71 2292.27,1388.71 2292.27,1388.71 2292.27,1388.7 2292.27,1388.71 2292.27,1388.71 2292.27,1388.71 2292.27,1388.71 2292.27,1388.71 2292.27,1388.71 \n",
       "  2292.27,1388.71 2292.27,1388.71 2292.27,1388.71 2292.27,1388.71 2292.27,1388.71 2292.27,1388.71 2292.27,1388.71 2292.27,1388.71 2292.27,1388.71 2292.27,1388.71 \n",
       "  2292.27,1388.71 2292.27,1388.71 2292.27,1388.71 2292.27,1388.71 2292.27,1388.71 2292.27,1388.71 2292.27,1388.71 2292.27,1388.71 2292.27,1388.71 2292.27,1388.71 \n",
       "  2292.27,1388.71 2292.27,1388.71 2292.27,1388.71 2292.27,1388.71 2292.26,1388.7 2292.27,1388.71 2292.27,1388.71 2292.27,1388.71 2292.27,1388.71 2292.27,1388.71 \n",
       "  \n",
       "  \"/>\n",
       "<path clip-path=\"url(#clip1900)\" d=\"\n",
       "M1719.75 326.155 L2280.76 326.155 L2280.76 205.195 L1719.75 205.195  Z\n",
       "  \" fill=\"#ffffff\" fill-rule=\"evenodd\" fill-opacity=\"1\"/>\n",
       "<polyline clip-path=\"url(#clip1900)\" style=\"stroke:#000000; stroke-width:4; stroke-opacity:1; fill:none\" points=\"\n",
       "  1719.75,326.155 2280.76,326.155 2280.76,205.195 1719.75,205.195 1719.75,326.155 \n",
       "  \"/>\n",
       "<polyline clip-path=\"url(#clip1900)\" style=\"stroke:#009af9; stroke-width:4; stroke-opacity:1; fill:none\" points=\"\n",
       "  1743.75,265.675 1887.75,265.675 \n",
       "  \"/>\n",
       "<g clip-path=\"url(#clip1900)\">\n",
       "<text style=\"fill:#000000; fill-opacity:1; font-family:Arial,Helvetica Neue,Helvetica,sans-serif; font-size:48px; text-anchor:start;\" transform=\"rotate(0, 1911.75, 283.175)\" x=\"1911.75\" y=\"283.175\">Pareto Frontier</text>\n",
       "</g>\n",
       "</svg>\n"
      ]
     },
     "execution_count": 230,
     "metadata": {},
     "output_type": "execute_result"
    }
   ],
   "source": [
    "A = rand(100,100);\n",
    "b = rand(100,1);\n",
    "f1 = Array{Float64}(undef,100);\n",
    "f2 = Array{Float64}(undef,100);\n",
    "for i in 1:100\n",
    "    x = Variable(size(A)[2],1);\n",
    "    g = i; \n",
    "    sol = minimize(0.5*sumsquares(A*x - b)+g*norm(x,1));\n",
    "    solve!(sol, SCSSolver(verbose = 0));\n",
    "    f1[i] = 0.5*norm((A*x.value)-b)^2;\n",
    "    f2[i] = norm(x.value, 1);\n",
    "end\n",
    "plot(f1, f2, title=\"Pareto Optimality Curve\", label=\"Pareto Frontier\", \n",
    "    xaxis= \"f2\", yaxis = \"f1\")"
   ]
  },
  {
   "cell_type": "markdown",
   "metadata": {},
   "source": [
    "Using random matrices, we get the above Pareto Optimality Cuve. When using specific values we will get a similar graph."
   ]
  },
  {
   "cell_type": "markdown",
   "metadata": {},
   "source": [
    "### b"
   ]
  },
  {
   "cell_type": "code",
   "execution_count": 120,
   "metadata": {},
   "outputs": [],
   "source": [
    "A = load(\"hw2_p2_sparse_A.jld\", \"data\");\n",
    "b = load(\"hw2_p2_sparse_b.jld\", \"data\");\n",
    "x0 = load(\"hw2_p2_sparse_signal.jld\", \"data\");"
   ]
  },
  {
   "cell_type": "code",
   "execution_count": 121,
   "metadata": {},
   "outputs": [
    {
     "name": "stdout",
     "output_type": "stream",
     "text": [
      "----------------------------------------------------------------------------\n",
      "\tSCS v2.1.1 - Splitting Conic Solver\n",
      "\t(c) Brendan O'Donoghue, Stanford University, 2012\n",
      "----------------------------------------------------------------------------\n",
      "Lin-sys: sparse-indirect, nnz in A = 5256, CG tol ~ 1/iter^(2.00)\n",
      "eps = 1.00e-005, alpha = 1.50, max_iters = 5000, normalize = 1, scale = 1.00\n",
      "acceleration_lookback = 10, rho_x = 1.00e-003\n",
      "Variables n = 103, constraints m = 206\n",
      "Cones:\tprimal zero / dual free vars: 1\n",
      "\tlinear vars: 101\n",
      "\tsoc vars: 104, soc blks: 2\n",
      "Setup time: 9.93e-004s\n",
      "----------------------------------------------------------------------------\n",
      " Iter | pri res | dua res | rel gap | pri obj | dua obj | kap/tau | time (s)\n",
      "----------------------------------------------------------------------------\n",
      "     0|7.17e+018 1.95e+018 1.00e+000 -6.00e+020 1.27e+018 4.47e+020 4.22e-004 \n",
      "   100|2.18e-003 2.71e-003 6.78e-005 3.88e+000 3.88e+000 3.22e-016 1.69e-002 \n",
      "   200|6.80e-005 8.12e-005 1.17e-005 3.88e+000 3.88e+000 3.25e-016 3.06e-002 \n",
      "   260|8.64e-006 9.57e-006 3.75e-006 3.88e+000 3.88e+000 1.32e-016 3.66e-002 \n",
      "----------------------------------------------------------------------------\n",
      "Status: Solved\n",
      "Timing: Solve time: 3.66e-002s\n",
      "\tLin-sys: avg # CG iterations: 15.74, avg solve time: 1.14e-004s\n",
      "\tCones: avg projection time: 2.16e-007s\n",
      "\tAcceleration: avg step time: 2.31e-005s\n",
      "----------------------------------------------------------------------------\n",
      "Error metrics:\n",
      "dist(s, K) = 1.2939e-015, dist(y, K*) = 1.1102e-016, s'y/|s||y| = 1.3827e-016\n",
      "primal res: |Ax + s - b|_2 / (1 + |b|_2) = 8.6422e-006\n",
      "dual res:   |A'y + c|_2 / (1 + |c|_2) = 9.5667e-006\n",
      "rel gap:    |c'x + b'y| / (1 + |c'x| + |b'y|) = 3.7545e-006\n",
      "----------------------------------------------------------------------------\n",
      "c'x = 3.8802, -b'y = 3.8803\n",
      "============================================================================\n"
     ]
    }
   ],
   "source": [
    "x = Variable(size(A)[2],1);\n",
    "ans_1 = minimize(0.5*sumsquares(A * x - b)+1.0*norm(x,1));\n",
    "solve!(ans_1, SCSSolver())"
   ]
  },
  {
   "cell_type": "code",
   "execution_count": 122,
   "metadata": {},
   "outputs": [
    {
     "data": {
      "text/plain": [
       "0.8029071285364764"
      ]
     },
     "execution_count": 122,
     "metadata": {},
     "output_type": "execute_result"
    }
   ],
   "source": [
    "res = A*x.value;\n",
    "res = 0.5*(norm(res-b))^2"
   ]
  },
  {
   "cell_type": "code",
   "execution_count": 123,
   "metadata": {},
   "outputs": [
    {
     "data": {
      "text/plain": [
       "3.077440717262689"
      ]
     },
     "execution_count": 123,
     "metadata": {},
     "output_type": "execute_result"
    }
   ],
   "source": [
    "norm(x.value, 1)"
   ]
  },
  {
   "cell_type": "markdown",
   "metadata": {},
   "source": [
    "The <B>optimal value</B> = 3.8802. <br>\n",
    "We also find that <B>accuracy</B> to be 0.8029071285364764, and the <B>sparsity metric</B> to be 3.077440717262689."
   ]
  },
  {
   "cell_type": "markdown",
   "metadata": {},
   "source": [
    "### c"
   ]
  },
  {
   "cell_type": "code",
   "execution_count": 124,
   "metadata": {},
   "outputs": [],
   "source": [
    "x = Variable(size(A)[2],1);\n",
    "ans_2 = minimize(0.5*sumsquares(A * x - b)+0.01*norm(x,1));\n",
    "solve!(ans_2, SCSSolver(verbose = 0))\n",
    "x_low = x.value;"
   ]
  },
  {
   "cell_type": "code",
   "execution_count": 125,
   "metadata": {},
   "outputs": [],
   "source": [
    "x = Variable(size(A)[2],1);\n",
    "ans_3 = minimize(0.5*sumsquares(A * x - b)+10*norm(x,1));\n",
    "solve!(ans_3, SCSSolver(verbose = 0))\n",
    "x_high = x.value;"
   ]
  },
  {
   "cell_type": "code",
   "execution_count": 126,
   "metadata": {},
   "outputs": [
    {
     "data": {
      "image/svg+xml": [
       "<?xml version=\"1.0\" encoding=\"utf-8\"?>\n",
       "<svg xmlns=\"http://www.w3.org/2000/svg\" xmlns:xlink=\"http://www.w3.org/1999/xlink\" width=\"600\" height=\"400\" viewBox=\"0 0 2400 1600\">\n",
       "<defs>\n",
       "  <clipPath id=\"clip7900\">\n",
       "    <rect x=\"0\" y=\"0\" width=\"2400\" height=\"1600\"/>\n",
       "  </clipPath>\n",
       "</defs>\n",
       "<path clip-path=\"url(#clip7900)\" d=\"\n",
       "M0 1600 L2400 1600 L2400 0 L0 0  Z\n",
       "  \" fill=\"#ffffff\" fill-rule=\"evenodd\" fill-opacity=\"1\"/>\n",
       "<defs>\n",
       "  <clipPath id=\"clip7901\">\n",
       "    <rect x=\"480\" y=\"0\" width=\"1681\" height=\"1600\"/>\n",
       "  </clipPath>\n",
       "</defs>\n",
       "<path clip-path=\"url(#clip7900)\" d=\"\n",
       "M182.008 1487.47 L2352.76 1487.47 L2352.76 47.2441 L182.008 47.2441  Z\n",
       "  \" fill=\"#ffffff\" fill-rule=\"evenodd\" fill-opacity=\"1\"/>\n",
       "<defs>\n",
       "  <clipPath id=\"clip7902\">\n",
       "    <rect x=\"182\" y=\"47\" width=\"2172\" height=\"1441\"/>\n",
       "  </clipPath>\n",
       "</defs>\n",
       "<polyline clip-path=\"url(#clip7902)\" style=\"stroke:#000000; stroke-width:2; stroke-opacity:0.1; fill:none\" points=\"\n",
       "  201.651,1487.47 201.651,47.2441 \n",
       "  \"/>\n",
       "<polyline clip-path=\"url(#clip7902)\" style=\"stroke:#000000; stroke-width:2; stroke-opacity:0.1; fill:none\" points=\"\n",
       "  619.585,1487.47 619.585,47.2441 \n",
       "  \"/>\n",
       "<polyline clip-path=\"url(#clip7902)\" style=\"stroke:#000000; stroke-width:2; stroke-opacity:0.1; fill:none\" points=\"\n",
       "  1037.52,1487.47 1037.52,47.2441 \n",
       "  \"/>\n",
       "<polyline clip-path=\"url(#clip7902)\" style=\"stroke:#000000; stroke-width:2; stroke-opacity:0.1; fill:none\" points=\"\n",
       "  1455.45,1487.47 1455.45,47.2441 \n",
       "  \"/>\n",
       "<polyline clip-path=\"url(#clip7902)\" style=\"stroke:#000000; stroke-width:2; stroke-opacity:0.1; fill:none\" points=\"\n",
       "  1873.39,1487.47 1873.39,47.2441 \n",
       "  \"/>\n",
       "<polyline clip-path=\"url(#clip7902)\" style=\"stroke:#000000; stroke-width:2; stroke-opacity:0.1; fill:none\" points=\"\n",
       "  2291.32,1487.47 2291.32,47.2441 \n",
       "  \"/>\n",
       "<polyline clip-path=\"url(#clip7902)\" style=\"stroke:#000000; stroke-width:2; stroke-opacity:0.1; fill:none\" points=\"\n",
       "  182.008,1299.96 2352.76,1299.96 \n",
       "  \"/>\n",
       "<polyline clip-path=\"url(#clip7902)\" style=\"stroke:#000000; stroke-width:2; stroke-opacity:0.1; fill:none\" points=\"\n",
       "  182.008,976.601 2352.76,976.601 \n",
       "  \"/>\n",
       "<polyline clip-path=\"url(#clip7902)\" style=\"stroke:#000000; stroke-width:2; stroke-opacity:0.1; fill:none\" points=\"\n",
       "  182.008,653.244 2352.76,653.244 \n",
       "  \"/>\n",
       "<polyline clip-path=\"url(#clip7902)\" style=\"stroke:#000000; stroke-width:2; stroke-opacity:0.1; fill:none\" points=\"\n",
       "  182.008,329.887 2352.76,329.887 \n",
       "  \"/>\n",
       "<polyline clip-path=\"url(#clip7900)\" style=\"stroke:#000000; stroke-width:4; stroke-opacity:1; fill:none\" points=\"\n",
       "  182.008,1487.47 2352.76,1487.47 \n",
       "  \"/>\n",
       "<polyline clip-path=\"url(#clip7900)\" style=\"stroke:#000000; stroke-width:4; stroke-opacity:1; fill:none\" points=\"\n",
       "  182.008,1487.47 182.008,47.2441 \n",
       "  \"/>\n",
       "<polyline clip-path=\"url(#clip7900)\" style=\"stroke:#000000; stroke-width:4; stroke-opacity:1; fill:none\" points=\"\n",
       "  201.651,1487.47 201.651,1470.19 \n",
       "  \"/>\n",
       "<polyline clip-path=\"url(#clip7900)\" style=\"stroke:#000000; stroke-width:4; stroke-opacity:1; fill:none\" points=\"\n",
       "  619.585,1487.47 619.585,1470.19 \n",
       "  \"/>\n",
       "<polyline clip-path=\"url(#clip7900)\" style=\"stroke:#000000; stroke-width:4; stroke-opacity:1; fill:none\" points=\"\n",
       "  1037.52,1487.47 1037.52,1470.19 \n",
       "  \"/>\n",
       "<polyline clip-path=\"url(#clip7900)\" style=\"stroke:#000000; stroke-width:4; stroke-opacity:1; fill:none\" points=\"\n",
       "  1455.45,1487.47 1455.45,1470.19 \n",
       "  \"/>\n",
       "<polyline clip-path=\"url(#clip7900)\" style=\"stroke:#000000; stroke-width:4; stroke-opacity:1; fill:none\" points=\"\n",
       "  1873.39,1487.47 1873.39,1470.19 \n",
       "  \"/>\n",
       "<polyline clip-path=\"url(#clip7900)\" style=\"stroke:#000000; stroke-width:4; stroke-opacity:1; fill:none\" points=\"\n",
       "  2291.32,1487.47 2291.32,1470.19 \n",
       "  \"/>\n",
       "<polyline clip-path=\"url(#clip7900)\" style=\"stroke:#000000; stroke-width:4; stroke-opacity:1; fill:none\" points=\"\n",
       "  182.008,1299.96 208.057,1299.96 \n",
       "  \"/>\n",
       "<polyline clip-path=\"url(#clip7900)\" style=\"stroke:#000000; stroke-width:4; stroke-opacity:1; fill:none\" points=\"\n",
       "  182.008,976.601 208.057,976.601 \n",
       "  \"/>\n",
       "<polyline clip-path=\"url(#clip7900)\" style=\"stroke:#000000; stroke-width:4; stroke-opacity:1; fill:none\" points=\"\n",
       "  182.008,653.244 208.057,653.244 \n",
       "  \"/>\n",
       "<polyline clip-path=\"url(#clip7900)\" style=\"stroke:#000000; stroke-width:4; stroke-opacity:1; fill:none\" points=\"\n",
       "  182.008,329.887 208.057,329.887 \n",
       "  \"/>\n",
       "<g clip-path=\"url(#clip7900)\">\n",
       "<text style=\"fill:#000000; fill-opacity:1; font-family:Arial,Helvetica Neue,Helvetica,sans-serif; font-size:48px; text-anchor:middle;\" transform=\"rotate(0, 201.651, 1541.47)\" x=\"201.651\" y=\"1541.47\">0</text>\n",
       "</g>\n",
       "<g clip-path=\"url(#clip7900)\">\n",
       "<text style=\"fill:#000000; fill-opacity:1; font-family:Arial,Helvetica Neue,Helvetica,sans-serif; font-size:48px; text-anchor:middle;\" transform=\"rotate(0, 619.585, 1541.47)\" x=\"619.585\" y=\"1541.47\">10</text>\n",
       "</g>\n",
       "<g clip-path=\"url(#clip7900)\">\n",
       "<text style=\"fill:#000000; fill-opacity:1; font-family:Arial,Helvetica Neue,Helvetica,sans-serif; font-size:48px; text-anchor:middle;\" transform=\"rotate(0, 1037.52, 1541.47)\" x=\"1037.52\" y=\"1541.47\">20</text>\n",
       "</g>\n",
       "<g clip-path=\"url(#clip7900)\">\n",
       "<text style=\"fill:#000000; fill-opacity:1; font-family:Arial,Helvetica Neue,Helvetica,sans-serif; font-size:48px; text-anchor:middle;\" transform=\"rotate(0, 1455.45, 1541.47)\" x=\"1455.45\" y=\"1541.47\">30</text>\n",
       "</g>\n",
       "<g clip-path=\"url(#clip7900)\">\n",
       "<text style=\"fill:#000000; fill-opacity:1; font-family:Arial,Helvetica Neue,Helvetica,sans-serif; font-size:48px; text-anchor:middle;\" transform=\"rotate(0, 1873.39, 1541.47)\" x=\"1873.39\" y=\"1541.47\">40</text>\n",
       "</g>\n",
       "<g clip-path=\"url(#clip7900)\">\n",
       "<text style=\"fill:#000000; fill-opacity:1; font-family:Arial,Helvetica Neue,Helvetica,sans-serif; font-size:48px; text-anchor:middle;\" transform=\"rotate(0, 2291.32, 1541.47)\" x=\"2291.32\" y=\"1541.47\">50</text>\n",
       "</g>\n",
       "<g clip-path=\"url(#clip7900)\">\n",
       "<text style=\"fill:#000000; fill-opacity:1; font-family:Arial,Helvetica Neue,Helvetica,sans-serif; font-size:48px; text-anchor:end;\" transform=\"rotate(0, 158.008, 1317.46)\" x=\"158.008\" y=\"1317.46\">-0.5</text>\n",
       "</g>\n",
       "<g clip-path=\"url(#clip7900)\">\n",
       "<text style=\"fill:#000000; fill-opacity:1; font-family:Arial,Helvetica Neue,Helvetica,sans-serif; font-size:48px; text-anchor:end;\" transform=\"rotate(0, 158.008, 994.101)\" x=\"158.008\" y=\"994.101\">0.0</text>\n",
       "</g>\n",
       "<g clip-path=\"url(#clip7900)\">\n",
       "<text style=\"fill:#000000; fill-opacity:1; font-family:Arial,Helvetica Neue,Helvetica,sans-serif; font-size:48px; text-anchor:end;\" transform=\"rotate(0, 158.008, 670.744)\" x=\"158.008\" y=\"670.744\">0.5</text>\n",
       "</g>\n",
       "<g clip-path=\"url(#clip7900)\">\n",
       "<text style=\"fill:#000000; fill-opacity:1; font-family:Arial,Helvetica Neue,Helvetica,sans-serif; font-size:48px; text-anchor:end;\" transform=\"rotate(0, 158.008, 347.387)\" x=\"158.008\" y=\"347.387\">1.0</text>\n",
       "</g>\n",
       "<polyline clip-path=\"url(#clip7902)\" style=\"stroke:#0000ff; stroke-width:4; stroke-opacity:1; fill:none\" points=\"\n",
       "  243.444,976.601 285.238,976.601 327.031,976.601 368.824,976.601 410.618,976.601 452.411,976.601 494.205,976.601 535.998,976.601 577.791,976.601 619.585,976.601 \n",
       "  661.378,976.601 703.171,976.601 744.965,976.601 786.758,976.601 828.552,976.601 870.345,976.601 912.138,976.601 953.932,976.601 995.725,976.601 1037.52,976.601 \n",
       "  1079.31,976.601 1121.11,976.601 1162.9,976.601 1204.69,976.601 1246.49,976.601 1288.28,88.0053 1330.07,976.601 1371.87,1361.78 1413.66,976.601 1455.45,976.601 \n",
       "  1497.25,976.601 1539.04,976.601 1580.83,976.601 1622.63,976.601 1664.42,976.601 1706.21,875.254 1748.01,976.601 1789.8,976.601 1831.59,976.601 1873.39,976.601 \n",
       "  1915.18,976.601 1956.97,976.601 1998.77,976.601 2040.56,976.601 2082.35,976.601 2124.15,976.601 2165.94,1443.24 2207.73,976.601 2249.53,976.601 2291.32,976.601 \n",
       "  \n",
       "  \"/>\n",
       "<polyline clip-path=\"url(#clip7902)\" style=\"stroke:#ff0000; stroke-width:4; stroke-opacity:1; fill:none\" points=\"\n",
       "  243.444,1000.4 285.238,980.927 327.031,966.323 368.824,972.004 410.618,967.617 452.411,965.434 494.205,958.775 535.998,999.833 577.791,1001.48 619.585,963.257 \n",
       "  661.378,991.13 703.171,988.508 744.965,971.637 786.758,978.292 828.552,968.012 870.345,943.16 912.138,971.348 953.932,983.59 995.725,960.347 1037.52,967.421 \n",
       "  1079.31,986.055 1121.11,962.38 1162.9,991.938 1204.69,984.608 1246.49,990.945 1288.28,90.273 1330.07,991.287 1371.87,1354.94 1413.66,974.474 1455.45,997.936 \n",
       "  1497.25,982.989 1539.04,962.232 1580.83,974.775 1622.63,981.655 1664.42,998.173 1706.21,857.166 1748.01,1003.93 1789.8,945.028 1831.59,991.508 1873.39,1007.81 \n",
       "  1915.18,983.76 1956.97,980.08 1998.77,973.618 2040.56,953.706 2082.35,952.576 2124.15,995.445 2165.94,1446.71 2207.73,987.729 2249.53,986.606 2291.32,993.823 \n",
       "  \n",
       "  \"/>\n",
       "<polyline clip-path=\"url(#clip7902)\" style=\"stroke:#008000; stroke-width:4; stroke-opacity:1; fill:none\" points=\"\n",
       "  243.444,976.601 285.238,976.601 327.031,976.601 368.824,976.601 410.618,976.601 452.411,976.601 494.205,976.601 535.998,976.601 577.791,976.601 619.585,976.601 \n",
       "  661.378,976.601 703.171,976.601 744.965,976.601 786.758,976.601 828.552,976.601 870.345,976.601 912.138,976.601 953.932,976.601 995.725,976.601 1037.52,976.601 \n",
       "  1079.31,976.601 1121.11,976.601 1162.9,976.601 1204.69,976.601 1246.49,976.601 1288.28,171.452 1330.07,976.601 1371.87,1287.87 1413.66,976.601 1455.45,976.601 \n",
       "  1497.25,976.601 1539.04,976.601 1580.83,976.601 1622.63,976.601 1664.42,976.601 1706.21,923.014 1748.01,976.601 1789.8,976.601 1831.59,976.601 1873.39,976.601 \n",
       "  1915.18,976.601 1956.97,976.601 1998.77,976.601 2040.56,976.601 2082.35,976.601 2124.15,976.601 2165.94,1375.85 2207.73,976.601 2249.53,976.601 2291.32,976.601 \n",
       "  \n",
       "  \"/>\n",
       "<path clip-path=\"url(#clip7900)\" d=\"\n",
       "M1721.05 372.684 L2280.76 372.684 L2280.76 130.764 L1721.05 130.764  Z\n",
       "  \" fill=\"#ffffff\" fill-rule=\"evenodd\" fill-opacity=\"1\"/>\n",
       "<polyline clip-path=\"url(#clip7900)\" style=\"stroke:#000000; stroke-width:4; stroke-opacity:1; fill:none\" points=\"\n",
       "  1721.05,372.684 2280.76,372.684 2280.76,130.764 1721.05,130.764 1721.05,372.684 \n",
       "  \"/>\n",
       "<polyline clip-path=\"url(#clip7900)\" style=\"stroke:#0000ff; stroke-width:4; stroke-opacity:1; fill:none\" points=\"\n",
       "  1745.05,191.244 1889.05,191.244 \n",
       "  \"/>\n",
       "<g clip-path=\"url(#clip7900)\">\n",
       "<text style=\"fill:#000000; fill-opacity:1; font-family:Arial,Helvetica Neue,Helvetica,sans-serif; font-size:48px; text-anchor:start;\" transform=\"rotate(0, 1913.05, 208.744)\" x=\"1913.05\" y=\"208.744\">Original</text>\n",
       "</g>\n",
       "<polyline clip-path=\"url(#clip7900)\" style=\"stroke:#ff0000; stroke-width:4; stroke-opacity:1; fill:none\" points=\"\n",
       "  1745.05,251.724 1889.05,251.724 \n",
       "  \"/>\n",
       "<g clip-path=\"url(#clip7900)\">\n",
       "<text style=\"fill:#000000; fill-opacity:1; font-family:Arial,Helvetica Neue,Helvetica,sans-serif; font-size:48px; text-anchor:start;\" transform=\"rotate(0, 1913.05, 269.224)\" x=\"1913.05\" y=\"269.224\">Gamma = 0.01</text>\n",
       "</g>\n",
       "<polyline clip-path=\"url(#clip7900)\" style=\"stroke:#008000; stroke-width:4; stroke-opacity:1; fill:none\" points=\"\n",
       "  1745.05,312.204 1889.05,312.204 \n",
       "  \"/>\n",
       "<g clip-path=\"url(#clip7900)\">\n",
       "<text style=\"fill:#000000; fill-opacity:1; font-family:Arial,Helvetica Neue,Helvetica,sans-serif; font-size:48px; text-anchor:start;\" transform=\"rotate(0, 1913.05, 329.704)\" x=\"1913.05\" y=\"329.704\">Gamma = 10.0</text>\n",
       "</g>\n",
       "</svg>\n"
      ]
     },
     "execution_count": 126,
     "metadata": {},
     "output_type": "execute_result"
    }
   ],
   "source": [
    "plot(x0, label = \"Original\", color = \"blue\")\n",
    "plot!(x_low, label = \"Gamma = 0.01\", color = \"red\")\n",
    "plot!(x_high, label = \"Gamma = 10.0\", color = \"green\")"
   ]
  },
  {
   "cell_type": "markdown",
   "metadata": {},
   "source": [
    "It is evident from the graph that when $\\gamma$=10.0, we see a better fit that corresponds to the original signal. At $\\gamma$=0.01 we see a lot of noise and less congruency when compared to the original."
   ]
  },
  {
   "cell_type": "markdown",
   "metadata": {},
   "source": [
    "### d"
   ]
  },
  {
   "cell_type": "code",
   "execution_count": 127,
   "metadata": {},
   "outputs": [
    {
     "data": {
      "image/svg+xml": [
       "<?xml version=\"1.0\" encoding=\"utf-8\"?>\n",
       "<svg xmlns=\"http://www.w3.org/2000/svg\" xmlns:xlink=\"http://www.w3.org/1999/xlink\" width=\"600\" height=\"400\" viewBox=\"0 0 2400 1600\">\n",
       "<defs>\n",
       "  <clipPath id=\"clip8300\">\n",
       "    <rect x=\"0\" y=\"0\" width=\"2400\" height=\"1600\"/>\n",
       "  </clipPath>\n",
       "</defs>\n",
       "<path clip-path=\"url(#clip8300)\" d=\"\n",
       "M0 1600 L2400 1600 L2400 0 L0 0  Z\n",
       "  \" fill=\"#ffffff\" fill-rule=\"evenodd\" fill-opacity=\"1\"/>\n",
       "<defs>\n",
       "  <clipPath id=\"clip8301\">\n",
       "    <rect x=\"480\" y=\"0\" width=\"1681\" height=\"1600\"/>\n",
       "  </clipPath>\n",
       "</defs>\n",
       "<path clip-path=\"url(#clip8300)\" d=\"\n",
       "M175.611 1425.62 L2352.76 1425.62 L2352.76 121.675 L175.611 121.675  Z\n",
       "  \" fill=\"#ffffff\" fill-rule=\"evenodd\" fill-opacity=\"1\"/>\n",
       "<defs>\n",
       "  <clipPath id=\"clip8302\">\n",
       "    <rect x=\"175\" y=\"121\" width=\"2178\" height=\"1305\"/>\n",
       "  </clipPath>\n",
       "</defs>\n",
       "<polyline clip-path=\"url(#clip8302)\" style=\"stroke:#000000; stroke-width:2; stroke-opacity:0.1; fill:none\" points=\"\n",
       "  229.353,1425.62 229.353,121.675 \n",
       "  \"/>\n",
       "<polyline clip-path=\"url(#clip8302)\" style=\"stroke:#000000; stroke-width:2; stroke-opacity:0.1; fill:none\" points=\"\n",
       "  538.047,1425.62 538.047,121.675 \n",
       "  \"/>\n",
       "<polyline clip-path=\"url(#clip8302)\" style=\"stroke:#000000; stroke-width:2; stroke-opacity:0.1; fill:none\" points=\"\n",
       "  846.74,1425.62 846.74,121.675 \n",
       "  \"/>\n",
       "<polyline clip-path=\"url(#clip8302)\" style=\"stroke:#000000; stroke-width:2; stroke-opacity:0.1; fill:none\" points=\"\n",
       "  1155.43,1425.62 1155.43,121.675 \n",
       "  \"/>\n",
       "<polyline clip-path=\"url(#clip8302)\" style=\"stroke:#000000; stroke-width:2; stroke-opacity:0.1; fill:none\" points=\"\n",
       "  1464.13,1425.62 1464.13,121.675 \n",
       "  \"/>\n",
       "<polyline clip-path=\"url(#clip8302)\" style=\"stroke:#000000; stroke-width:2; stroke-opacity:0.1; fill:none\" points=\"\n",
       "  1772.82,1425.62 1772.82,121.675 \n",
       "  \"/>\n",
       "<polyline clip-path=\"url(#clip8302)\" style=\"stroke:#000000; stroke-width:2; stroke-opacity:0.1; fill:none\" points=\"\n",
       "  2081.51,1425.62 2081.51,121.675 \n",
       "  \"/>\n",
       "<polyline clip-path=\"url(#clip8302)\" style=\"stroke:#000000; stroke-width:2; stroke-opacity:0.1; fill:none\" points=\"\n",
       "  175.611,1388.71 2352.76,1388.71 \n",
       "  \"/>\n",
       "<polyline clip-path=\"url(#clip8302)\" style=\"stroke:#000000; stroke-width:2; stroke-opacity:0.1; fill:none\" points=\"\n",
       "  175.611,1069.31 2352.76,1069.31 \n",
       "  \"/>\n",
       "<polyline clip-path=\"url(#clip8302)\" style=\"stroke:#000000; stroke-width:2; stroke-opacity:0.1; fill:none\" points=\"\n",
       "  175.611,749.909 2352.76,749.909 \n",
       "  \"/>\n",
       "<polyline clip-path=\"url(#clip8302)\" style=\"stroke:#000000; stroke-width:2; stroke-opacity:0.1; fill:none\" points=\"\n",
       "  175.611,430.506 2352.76,430.506 \n",
       "  \"/>\n",
       "<polyline clip-path=\"url(#clip8300)\" style=\"stroke:#000000; stroke-width:4; stroke-opacity:1; fill:none\" points=\"\n",
       "  175.611,1425.62 2352.76,1425.62 \n",
       "  \"/>\n",
       "<polyline clip-path=\"url(#clip8300)\" style=\"stroke:#000000; stroke-width:4; stroke-opacity:1; fill:none\" points=\"\n",
       "  175.611,1425.62 175.611,121.675 \n",
       "  \"/>\n",
       "<polyline clip-path=\"url(#clip8300)\" style=\"stroke:#000000; stroke-width:4; stroke-opacity:1; fill:none\" points=\"\n",
       "  229.353,1425.62 229.353,1409.97 \n",
       "  \"/>\n",
       "<polyline clip-path=\"url(#clip8300)\" style=\"stroke:#000000; stroke-width:4; stroke-opacity:1; fill:none\" points=\"\n",
       "  538.047,1425.62 538.047,1409.97 \n",
       "  \"/>\n",
       "<polyline clip-path=\"url(#clip8300)\" style=\"stroke:#000000; stroke-width:4; stroke-opacity:1; fill:none\" points=\"\n",
       "  846.74,1425.62 846.74,1409.97 \n",
       "  \"/>\n",
       "<polyline clip-path=\"url(#clip8300)\" style=\"stroke:#000000; stroke-width:4; stroke-opacity:1; fill:none\" points=\"\n",
       "  1155.43,1425.62 1155.43,1409.97 \n",
       "  \"/>\n",
       "<polyline clip-path=\"url(#clip8300)\" style=\"stroke:#000000; stroke-width:4; stroke-opacity:1; fill:none\" points=\"\n",
       "  1464.13,1425.62 1464.13,1409.97 \n",
       "  \"/>\n",
       "<polyline clip-path=\"url(#clip8300)\" style=\"stroke:#000000; stroke-width:4; stroke-opacity:1; fill:none\" points=\"\n",
       "  1772.82,1425.62 1772.82,1409.97 \n",
       "  \"/>\n",
       "<polyline clip-path=\"url(#clip8300)\" style=\"stroke:#000000; stroke-width:4; stroke-opacity:1; fill:none\" points=\"\n",
       "  2081.51,1425.62 2081.51,1409.97 \n",
       "  \"/>\n",
       "<polyline clip-path=\"url(#clip8300)\" style=\"stroke:#000000; stroke-width:4; stroke-opacity:1; fill:none\" points=\"\n",
       "  175.611,1388.71 201.736,1388.71 \n",
       "  \"/>\n",
       "<polyline clip-path=\"url(#clip8300)\" style=\"stroke:#000000; stroke-width:4; stroke-opacity:1; fill:none\" points=\"\n",
       "  175.611,1069.31 201.736,1069.31 \n",
       "  \"/>\n",
       "<polyline clip-path=\"url(#clip8300)\" style=\"stroke:#000000; stroke-width:4; stroke-opacity:1; fill:none\" points=\"\n",
       "  175.611,749.909 201.736,749.909 \n",
       "  \"/>\n",
       "<polyline clip-path=\"url(#clip8300)\" style=\"stroke:#000000; stroke-width:4; stroke-opacity:1; fill:none\" points=\"\n",
       "  175.611,430.506 201.736,430.506 \n",
       "  \"/>\n",
       "<g clip-path=\"url(#clip8300)\">\n",
       "<text style=\"fill:#000000; fill-opacity:1; font-family:Arial,Helvetica Neue,Helvetica,sans-serif; font-size:48px; text-anchor:middle;\" transform=\"rotate(0, 229.353, 1479.62)\" x=\"229.353\" y=\"1479.62\">0</text>\n",
       "</g>\n",
       "<g clip-path=\"url(#clip8300)\">\n",
       "<text style=\"fill:#000000; fill-opacity:1; font-family:Arial,Helvetica Neue,Helvetica,sans-serif; font-size:48px; text-anchor:middle;\" transform=\"rotate(0, 538.047, 1479.62)\" x=\"538.047\" y=\"1479.62\">20</text>\n",
       "</g>\n",
       "<g clip-path=\"url(#clip8300)\">\n",
       "<text style=\"fill:#000000; fill-opacity:1; font-family:Arial,Helvetica Neue,Helvetica,sans-serif; font-size:48px; text-anchor:middle;\" transform=\"rotate(0, 846.74, 1479.62)\" x=\"846.74\" y=\"1479.62\">40</text>\n",
       "</g>\n",
       "<g clip-path=\"url(#clip8300)\">\n",
       "<text style=\"fill:#000000; fill-opacity:1; font-family:Arial,Helvetica Neue,Helvetica,sans-serif; font-size:48px; text-anchor:middle;\" transform=\"rotate(0, 1155.43, 1479.62)\" x=\"1155.43\" y=\"1479.62\">60</text>\n",
       "</g>\n",
       "<g clip-path=\"url(#clip8300)\">\n",
       "<text style=\"fill:#000000; fill-opacity:1; font-family:Arial,Helvetica Neue,Helvetica,sans-serif; font-size:48px; text-anchor:middle;\" transform=\"rotate(0, 1464.13, 1479.62)\" x=\"1464.13\" y=\"1479.62\">80</text>\n",
       "</g>\n",
       "<g clip-path=\"url(#clip8300)\">\n",
       "<text style=\"fill:#000000; fill-opacity:1; font-family:Arial,Helvetica Neue,Helvetica,sans-serif; font-size:48px; text-anchor:middle;\" transform=\"rotate(0, 1772.82, 1479.62)\" x=\"1772.82\" y=\"1479.62\">100</text>\n",
       "</g>\n",
       "<g clip-path=\"url(#clip8300)\">\n",
       "<text style=\"fill:#000000; fill-opacity:1; font-family:Arial,Helvetica Neue,Helvetica,sans-serif; font-size:48px; text-anchor:middle;\" transform=\"rotate(0, 2081.51, 1479.62)\" x=\"2081.51\" y=\"1479.62\">120</text>\n",
       "</g>\n",
       "<g clip-path=\"url(#clip8300)\">\n",
       "<text style=\"fill:#000000; fill-opacity:1; font-family:Arial,Helvetica Neue,Helvetica,sans-serif; font-size:48px; text-anchor:end;\" transform=\"rotate(0, 151.611, 1406.21)\" x=\"151.611\" y=\"1406.21\">0</text>\n",
       "</g>\n",
       "<g clip-path=\"url(#clip8300)\">\n",
       "<text style=\"fill:#000000; fill-opacity:1; font-family:Arial,Helvetica Neue,Helvetica,sans-serif; font-size:48px; text-anchor:end;\" transform=\"rotate(0, 151.611, 1086.81)\" x=\"151.611\" y=\"1086.81\">1</text>\n",
       "</g>\n",
       "<g clip-path=\"url(#clip8300)\">\n",
       "<text style=\"fill:#000000; fill-opacity:1; font-family:Arial,Helvetica Neue,Helvetica,sans-serif; font-size:48px; text-anchor:end;\" transform=\"rotate(0, 151.611, 767.409)\" x=\"151.611\" y=\"767.409\">2</text>\n",
       "</g>\n",
       "<g clip-path=\"url(#clip8300)\">\n",
       "<text style=\"fill:#000000; fill-opacity:1; font-family:Arial,Helvetica Neue,Helvetica,sans-serif; font-size:48px; text-anchor:end;\" transform=\"rotate(0, 151.611, 448.006)\" x=\"151.611\" y=\"448.006\">3</text>\n",
       "</g>\n",
       "<g clip-path=\"url(#clip8300)\">\n",
       "<text style=\"fill:#000000; fill-opacity:1; font-family:Arial,Helvetica Neue,Helvetica,sans-serif; font-size:84px; text-anchor:middle;\" transform=\"rotate(0, 1264.18, 73.2)\" x=\"1264.18\" y=\"73.2\">Pareto Optimality Curve</text>\n",
       "</g>\n",
       "<g clip-path=\"url(#clip8300)\">\n",
       "<text style=\"fill:#000000; fill-opacity:1; font-family:Arial,Helvetica Neue,Helvetica,sans-serif; font-size:66px; text-anchor:middle;\" transform=\"rotate(0, 1264.18, 1559.48)\" x=\"1264.18\" y=\"1559.48\">f2</text>\n",
       "</g>\n",
       "<g clip-path=\"url(#clip8300)\">\n",
       "<text style=\"fill:#000000; fill-opacity:1; font-family:Arial,Helvetica Neue,Helvetica,sans-serif; font-size:66px; text-anchor:middle;\" transform=\"rotate(-90, 89.2861, 773.647)\" x=\"89.2861\" y=\"773.647\">f1</text>\n",
       "</g>\n",
       "<polyline clip-path=\"url(#clip8302)\" style=\"stroke:#009af9; stroke-width:4; stroke-opacity:1; fill:none\" points=\"\n",
       "  237.228,158.579 237.228,158.659 237.228,158.752 237.228,158.859 237.228,158.981 237.228,159.119 237.228,159.283 237.228,159.469 237.228,159.683 237.228,159.929 \n",
       "  237.228,160.209 237.228,160.536 237.228,160.911 237.228,161.341 237.229,161.837 237.229,162.403 237.229,163.057 237.229,163.806 237.23,164.67 237.23,165.663 \n",
       "  237.231,166.804 237.232,168.116 237.234,169.627 237.236,171.36 237.238,173.354 237.242,175.647 237.246,178.285 237.252,181.316 237.26,184.801 237.27,188.809 \n",
       "  237.284,193.417 237.302,198.714 237.321,203.379 237.342,208.084 237.369,213.378 237.406,219.459 237.454,226.455 237.517,234.501 237.602,243.815 237.718,254.95 \n",
       "  237.859,266.678 238.014,277.979 238.2,289.708 238.435,302.635 238.725,316.413 239.101,332.034 239.553,348.375 240.1,365.544 240.668,381.075 241.364,397.611 \n",
       "  242.131,413.489 243.027,429.597 244.095,446.312 245.292,462.575 246.683,479.069 247.91,491.734 249.109,502.443 250.317,511.897 251.633,520.798 253.375,531.044 \n",
       "  255.134,540.088 257.027,548.508 259.528,558.177 262.831,569.295 267.201,582.082 272.976,596.78 280.613,613.684 290.704,633.112 304.051,655.461 321.688,681.146 \n",
       "  345.007,710.683 371.241,739.716 402.411,769.583 443.615,803.922 498.093,843.41 570.097,888.803 665.297,941.001 791.13,1001.01 957.495,1070.02 1115.18,1127.26 \n",
       "  1299.81,1185.2 1431.78,1221.27 1602.57,1261.8 1828.34,1308.41 2126.79,1362 2291.14,1388.71 2291.14,1388.71 2291.14,1388.71 2291.14,1388.71 2291.14,1388.71 \n",
       "  2291.14,1388.71 2291.14,1388.71 2291.14,1388.71 2291.14,1388.71 2291.14,1388.71 2291.14,1388.71 2291.14,1388.71 2291.14,1388.71 2291.14,1388.71 2291.14,1388.71 \n",
       "  \n",
       "  \"/>\n",
       "<path clip-path=\"url(#clip8300)\" d=\"\n",
       "M1719.75 326.155 L2280.76 326.155 L2280.76 205.195 L1719.75 205.195  Z\n",
       "  \" fill=\"#ffffff\" fill-rule=\"evenodd\" fill-opacity=\"1\"/>\n",
       "<polyline clip-path=\"url(#clip8300)\" style=\"stroke:#000000; stroke-width:4; stroke-opacity:1; fill:none\" points=\"\n",
       "  1719.75,326.155 2280.76,326.155 2280.76,205.195 1719.75,205.195 1719.75,326.155 \n",
       "  \"/>\n",
       "<polyline clip-path=\"url(#clip8300)\" style=\"stroke:#009af9; stroke-width:4; stroke-opacity:1; fill:none\" points=\"\n",
       "  1743.75,265.675 1887.75,265.675 \n",
       "  \"/>\n",
       "<g clip-path=\"url(#clip8300)\">\n",
       "<text style=\"fill:#000000; fill-opacity:1; font-family:Arial,Helvetica Neue,Helvetica,sans-serif; font-size:48px; text-anchor:start;\" transform=\"rotate(0, 1911.75, 283.175)\" x=\"1911.75\" y=\"283.175\">Pareto Frontier</text>\n",
       "</g>\n",
       "</svg>\n"
      ]
     },
     "execution_count": 127,
     "metadata": {},
     "output_type": "execute_result"
    }
   ],
   "source": [
    "gm = exp10.(range(-3, stop=3,length=100));\n",
    "f1 = Array{Float64}(undef,100);\n",
    "f2 = Array{Float64}(undef,100);\n",
    "for i in 1:100\n",
    "    x = Variable(size(A)[2],1);\n",
    "    ans_ = minimize(0.5*sumsquares(A*x - b)+gm[i]*norm(x,1));\n",
    "    solve!(ans_, SCSSolver(verbose = 0));\n",
    "    f1[i] = 0.5*norm((A*x.value)-b)^2;\n",
    "    f2[i] = norm(x.value, 1);\n",
    "end\n",
    "plot(f1, f2, title=\"Pareto Optimality Curve\", label=\"Pareto Frontier\", \n",
    "    xaxis= \"f2\", yaxis = \"f1\")"
   ]
  },
  {
   "cell_type": "markdown",
   "metadata": {},
   "source": [
    "### e"
   ]
  },
  {
   "cell_type": "code",
   "execution_count": 128,
   "metadata": {},
   "outputs": [
    {
     "name": "stdout",
     "output_type": "stream",
     "text": [
      "----------------------------------------------------------------------------\n",
      "\tSCS v2.1.1 - Splitting Conic Solver\n",
      "\t(c) Brendan O'Donoghue, Stanford University, 2012\n",
      "----------------------------------------------------------------------------\n",
      "Lin-sys: sparse-indirect, nnz in A = 5349, CG tol ~ 1/iter^(2.00)\n",
      "eps = 1.00e-005, alpha = 1.50, max_iters = 5000, normalize = 1, scale = 1.00\n",
      "acceleration_lookback = 10, rho_x = 1.00e-003\n",
      "Variables n = 102, constraints m = 204\n",
      "Cones:\tprimal zero / dual free vars: 1\n",
      "\tlinear vars: 99\n",
      "\tsoc vars: 104, soc blks: 2\n",
      "Setup time: 4.86e-004s\n",
      "----------------------------------------------------------------------------\n",
      " Iter | pri res | dua res | rel gap | pri obj | dua obj | kap/tau | time (s)\n",
      "----------------------------------------------------------------------------\n",
      "     0|7.14e+018 1.85e+018 1.00e+000 -1.37e+021 4.34e+017 1.02e+021 4.19e-004 \n",
      "   100|7.41e-003 1.15e-002 1.94e-004 3.85e+000 3.85e+000 2.33e-016 1.59e-002 \n",
      "   200|1.99e-003 2.94e-003 3.72e-005 3.86e+000 3.86e+000 2.56e-016 3.26e-002 \n",
      "   300|5.06e-004 7.18e-004 3.80e-005 3.88e+000 3.88e+000 4.23e-017 4.90e-002 \n",
      "   400|1.56e-003 2.48e-003 8.15e-006 3.88e+000 3.88e+000 1.88e-016 6.47e-002 \n",
      "   500|1.37e-005 2.10e-005 6.08e-006 3.88e+000 3.88e+000 9.11e-017 7.88e-002 \n",
      "   560|5.41e-006 6.03e-006 6.61e-008 3.88e+000 3.88e+000 1.23e-016 8.65e-002 \n",
      "----------------------------------------------------------------------------\n",
      "Status: Solved\n",
      "Timing: Solve time: 8.65e-002s\n",
      "\tLin-sys: avg # CG iterations: 18.50, avg solve time: 1.32e-004s\n",
      "\tCones: avg projection time: 2.35e-007s\n",
      "\tAcceleration: avg step time: 1.85e-005s\n",
      "----------------------------------------------------------------------------\n",
      "Error metrics:\n",
      "dist(s, K) = 2.8936e-015, dist(y, K*) = 0.0000e+000, s'y/|s||y| = -7.2795e-017\n",
      "primal res: |Ax + s - b|_2 / (1 + |b|_2) = 5.4131e-006\n",
      "dual res:   |A'y + c|_2 / (1 + |c|_2) = 6.0294e-006\n",
      "rel gap:    |c'x + b'y| / (1 + |c'x| + |b'y|) = 6.6107e-008\n",
      "----------------------------------------------------------------------------\n",
      "c'x = 3.8763, -b'y = 3.8763\n",
      "============================================================================\n"
     ]
    }
   ],
   "source": [
    "A = load(\"hw2_p2_smooth_A.jld\", \"data\");\n",
    "b = load(\"hw2_p2_smooth_b.jld\", \"data\");\n",
    "x0 = load(\"hw2_p2_smooth_signal.jld\", \"data\");\n",
    "n = 50;\n",
    "x = Variable(size(A)[2],1);\n",
    "\n",
    "D = Bidiagonal(ones(n), -ones(n-1), :U);\n",
    "D = D[1:n-1,:];\n",
    "gamma = 1.0;\n",
    "ans_4 = minimize(0.5*sumsquares(A * x - b)+gamma*norm(D*x,1));\n",
    "solve!(ans_4, SCSSolver());"
   ]
  },
  {
   "cell_type": "code",
   "execution_count": 129,
   "metadata": {},
   "outputs": [
    {
     "data": {
      "text/plain": [
       "0.856494473282389"
      ]
     },
     "execution_count": 129,
     "metadata": {},
     "output_type": "execute_result"
    }
   ],
   "source": [
    "res = A*x.value;\n",
    "res = 0.5*(norm(res-b))^2"
   ]
  },
  {
   "cell_type": "code",
   "execution_count": 130,
   "metadata": {},
   "outputs": [
    {
     "data": {
      "text/plain": [
       "3.0200670722151903"
      ]
     },
     "execution_count": 130,
     "metadata": {},
     "output_type": "execute_result"
    }
   ],
   "source": [
    "norm(D*x.value,1)"
   ]
  },
  {
   "cell_type": "markdown",
   "metadata": {},
   "source": [
    "The <B>optimal value</B> = 3.8763. <br>\n",
    "We also find that <B>accuracy</B> to be 0.856494473282389, and the <B>sparsity metric</B> to be 3.0200670722151903."
   ]
  },
  {
   "cell_type": "code",
   "execution_count": 131,
   "metadata": {},
   "outputs": [],
   "source": [
    "gamma = 0.01;\n",
    "ans_5 = minimize(0.5*sumsquares(A * x - b)+gamma*norm(D*x,1));\n",
    "solve!(ans_5, SCSSolver(verbose = 0));\n",
    "x_low = x.value;"
   ]
  },
  {
   "cell_type": "code",
   "execution_count": 132,
   "metadata": {},
   "outputs": [],
   "source": [
    "gamma = 10;\n",
    "x = Variable(size(A)[2],1);\n",
    "ans_6 = minimize(0.5*sumsquares(A * x - b)+gamma*norm(D*x,1));\n",
    "solve!(ans_6, SCSSolver(verbose = 0))\n",
    "x_high = x.value;"
   ]
  },
  {
   "cell_type": "code",
   "execution_count": 133,
   "metadata": {},
   "outputs": [
    {
     "data": {
      "image/svg+xml": [
       "<?xml version=\"1.0\" encoding=\"utf-8\"?>\n",
       "<svg xmlns=\"http://www.w3.org/2000/svg\" xmlns:xlink=\"http://www.w3.org/1999/xlink\" width=\"600\" height=\"400\" viewBox=\"0 0 2400 1600\">\n",
       "<defs>\n",
       "  <clipPath id=\"clip8700\">\n",
       "    <rect x=\"0\" y=\"0\" width=\"2400\" height=\"1600\"/>\n",
       "  </clipPath>\n",
       "</defs>\n",
       "<path clip-path=\"url(#clip8700)\" d=\"\n",
       "M0 1600 L2400 1600 L2400 0 L0 0  Z\n",
       "  \" fill=\"#ffffff\" fill-rule=\"evenodd\" fill-opacity=\"1\"/>\n",
       "<defs>\n",
       "  <clipPath id=\"clip8701\">\n",
       "    <rect x=\"480\" y=\"0\" width=\"1681\" height=\"1600\"/>\n",
       "  </clipPath>\n",
       "</defs>\n",
       "<path clip-path=\"url(#clip8700)\" d=\"\n",
       "M180.66 1487.47 L2352.76 1487.47 L2352.76 47.2441 L180.66 47.2441  Z\n",
       "  \" fill=\"#ffffff\" fill-rule=\"evenodd\" fill-opacity=\"1\"/>\n",
       "<defs>\n",
       "  <clipPath id=\"clip8702\">\n",
       "    <rect x=\"180\" y=\"47\" width=\"2173\" height=\"1441\"/>\n",
       "  </clipPath>\n",
       "</defs>\n",
       "<polyline clip-path=\"url(#clip8702)\" style=\"stroke:#000000; stroke-width:2; stroke-opacity:0.1; fill:none\" points=\"\n",
       "  200.315,1487.47 200.315,47.2441 \n",
       "  \"/>\n",
       "<polyline clip-path=\"url(#clip8702)\" style=\"stroke:#000000; stroke-width:2; stroke-opacity:0.1; fill:none\" points=\"\n",
       "  618.509,1487.47 618.509,47.2441 \n",
       "  \"/>\n",
       "<polyline clip-path=\"url(#clip8702)\" style=\"stroke:#000000; stroke-width:2; stroke-opacity:0.1; fill:none\" points=\"\n",
       "  1036.7,1487.47 1036.7,47.2441 \n",
       "  \"/>\n",
       "<polyline clip-path=\"url(#clip8702)\" style=\"stroke:#000000; stroke-width:2; stroke-opacity:0.1; fill:none\" points=\"\n",
       "  1454.9,1487.47 1454.9,47.2441 \n",
       "  \"/>\n",
       "<polyline clip-path=\"url(#clip8702)\" style=\"stroke:#000000; stroke-width:2; stroke-opacity:0.1; fill:none\" points=\"\n",
       "  1873.09,1487.47 1873.09,47.2441 \n",
       "  \"/>\n",
       "<polyline clip-path=\"url(#clip8702)\" style=\"stroke:#000000; stroke-width:2; stroke-opacity:0.1; fill:none\" points=\"\n",
       "  2291.28,1487.47 2291.28,47.2441 \n",
       "  \"/>\n",
       "<polyline clip-path=\"url(#clip8702)\" style=\"stroke:#000000; stroke-width:2; stroke-opacity:0.1; fill:none\" points=\"\n",
       "  180.66,1410.41 2352.76,1410.41 \n",
       "  \"/>\n",
       "<polyline clip-path=\"url(#clip8702)\" style=\"stroke:#000000; stroke-width:2; stroke-opacity:0.1; fill:none\" points=\"\n",
       "  180.66,1169.8 2352.76,1169.8 \n",
       "  \"/>\n",
       "<polyline clip-path=\"url(#clip8702)\" style=\"stroke:#000000; stroke-width:2; stroke-opacity:0.1; fill:none\" points=\"\n",
       "  180.66,929.188 2352.76,929.188 \n",
       "  \"/>\n",
       "<polyline clip-path=\"url(#clip8702)\" style=\"stroke:#000000; stroke-width:2; stroke-opacity:0.1; fill:none\" points=\"\n",
       "  180.66,688.58 2352.76,688.58 \n",
       "  \"/>\n",
       "<polyline clip-path=\"url(#clip8702)\" style=\"stroke:#000000; stroke-width:2; stroke-opacity:0.1; fill:none\" points=\"\n",
       "  180.66,447.971 2352.76,447.971 \n",
       "  \"/>\n",
       "<polyline clip-path=\"url(#clip8702)\" style=\"stroke:#000000; stroke-width:2; stroke-opacity:0.1; fill:none\" points=\"\n",
       "  180.66,207.363 2352.76,207.363 \n",
       "  \"/>\n",
       "<polyline clip-path=\"url(#clip8700)\" style=\"stroke:#000000; stroke-width:4; stroke-opacity:1; fill:none\" points=\"\n",
       "  180.66,1487.47 2352.76,1487.47 \n",
       "  \"/>\n",
       "<polyline clip-path=\"url(#clip8700)\" style=\"stroke:#000000; stroke-width:4; stroke-opacity:1; fill:none\" points=\"\n",
       "  180.66,1487.47 180.66,47.2441 \n",
       "  \"/>\n",
       "<polyline clip-path=\"url(#clip8700)\" style=\"stroke:#000000; stroke-width:4; stroke-opacity:1; fill:none\" points=\"\n",
       "  200.315,1487.47 200.315,1470.19 \n",
       "  \"/>\n",
       "<polyline clip-path=\"url(#clip8700)\" style=\"stroke:#000000; stroke-width:4; stroke-opacity:1; fill:none\" points=\"\n",
       "  618.509,1487.47 618.509,1470.19 \n",
       "  \"/>\n",
       "<polyline clip-path=\"url(#clip8700)\" style=\"stroke:#000000; stroke-width:4; stroke-opacity:1; fill:none\" points=\"\n",
       "  1036.7,1487.47 1036.7,1470.19 \n",
       "  \"/>\n",
       "<polyline clip-path=\"url(#clip8700)\" style=\"stroke:#000000; stroke-width:4; stroke-opacity:1; fill:none\" points=\"\n",
       "  1454.9,1487.47 1454.9,1470.19 \n",
       "  \"/>\n",
       "<polyline clip-path=\"url(#clip8700)\" style=\"stroke:#000000; stroke-width:4; stroke-opacity:1; fill:none\" points=\"\n",
       "  1873.09,1487.47 1873.09,1470.19 \n",
       "  \"/>\n",
       "<polyline clip-path=\"url(#clip8700)\" style=\"stroke:#000000; stroke-width:4; stroke-opacity:1; fill:none\" points=\"\n",
       "  2291.28,1487.47 2291.28,1470.19 \n",
       "  \"/>\n",
       "<polyline clip-path=\"url(#clip8700)\" style=\"stroke:#000000; stroke-width:4; stroke-opacity:1; fill:none\" points=\"\n",
       "  180.66,1410.41 206.725,1410.41 \n",
       "  \"/>\n",
       "<polyline clip-path=\"url(#clip8700)\" style=\"stroke:#000000; stroke-width:4; stroke-opacity:1; fill:none\" points=\"\n",
       "  180.66,1169.8 206.725,1169.8 \n",
       "  \"/>\n",
       "<polyline clip-path=\"url(#clip8700)\" style=\"stroke:#000000; stroke-width:4; stroke-opacity:1; fill:none\" points=\"\n",
       "  180.66,929.188 206.725,929.188 \n",
       "  \"/>\n",
       "<polyline clip-path=\"url(#clip8700)\" style=\"stroke:#000000; stroke-width:4; stroke-opacity:1; fill:none\" points=\"\n",
       "  180.66,688.58 206.725,688.58 \n",
       "  \"/>\n",
       "<polyline clip-path=\"url(#clip8700)\" style=\"stroke:#000000; stroke-width:4; stroke-opacity:1; fill:none\" points=\"\n",
       "  180.66,447.971 206.725,447.971 \n",
       "  \"/>\n",
       "<polyline clip-path=\"url(#clip8700)\" style=\"stroke:#000000; stroke-width:4; stroke-opacity:1; fill:none\" points=\"\n",
       "  180.66,207.363 206.725,207.363 \n",
       "  \"/>\n",
       "<g clip-path=\"url(#clip8700)\">\n",
       "<text style=\"fill:#000000; fill-opacity:1; font-family:Arial,Helvetica Neue,Helvetica,sans-serif; font-size:48px; text-anchor:middle;\" transform=\"rotate(0, 200.315, 1541.47)\" x=\"200.315\" y=\"1541.47\">0</text>\n",
       "</g>\n",
       "<g clip-path=\"url(#clip8700)\">\n",
       "<text style=\"fill:#000000; fill-opacity:1; font-family:Arial,Helvetica Neue,Helvetica,sans-serif; font-size:48px; text-anchor:middle;\" transform=\"rotate(0, 618.509, 1541.47)\" x=\"618.509\" y=\"1541.47\">10</text>\n",
       "</g>\n",
       "<g clip-path=\"url(#clip8700)\">\n",
       "<text style=\"fill:#000000; fill-opacity:1; font-family:Arial,Helvetica Neue,Helvetica,sans-serif; font-size:48px; text-anchor:middle;\" transform=\"rotate(0, 1036.7, 1541.47)\" x=\"1036.7\" y=\"1541.47\">20</text>\n",
       "</g>\n",
       "<g clip-path=\"url(#clip8700)\">\n",
       "<text style=\"fill:#000000; fill-opacity:1; font-family:Arial,Helvetica Neue,Helvetica,sans-serif; font-size:48px; text-anchor:middle;\" transform=\"rotate(0, 1454.9, 1541.47)\" x=\"1454.9\" y=\"1541.47\">30</text>\n",
       "</g>\n",
       "<g clip-path=\"url(#clip8700)\">\n",
       "<text style=\"fill:#000000; fill-opacity:1; font-family:Arial,Helvetica Neue,Helvetica,sans-serif; font-size:48px; text-anchor:middle;\" transform=\"rotate(0, 1873.09, 1541.47)\" x=\"1873.09\" y=\"1541.47\">40</text>\n",
       "</g>\n",
       "<g clip-path=\"url(#clip8700)\">\n",
       "<text style=\"fill:#000000; fill-opacity:1; font-family:Arial,Helvetica Neue,Helvetica,sans-serif; font-size:48px; text-anchor:middle;\" transform=\"rotate(0, 2291.28, 1541.47)\" x=\"2291.28\" y=\"1541.47\">50</text>\n",
       "</g>\n",
       "<g clip-path=\"url(#clip8700)\">\n",
       "<text style=\"fill:#000000; fill-opacity:1; font-family:Arial,Helvetica Neue,Helvetica,sans-serif; font-size:48px; text-anchor:end;\" transform=\"rotate(0, 156.66, 1427.91)\" x=\"156.66\" y=\"1427.91\">0.00</text>\n",
       "</g>\n",
       "<g clip-path=\"url(#clip8700)\">\n",
       "<text style=\"fill:#000000; fill-opacity:1; font-family:Arial,Helvetica Neue,Helvetica,sans-serif; font-size:48px; text-anchor:end;\" transform=\"rotate(0, 156.66, 1187.3)\" x=\"156.66\" y=\"1187.3\">0.25</text>\n",
       "</g>\n",
       "<g clip-path=\"url(#clip8700)\">\n",
       "<text style=\"fill:#000000; fill-opacity:1; font-family:Arial,Helvetica Neue,Helvetica,sans-serif; font-size:48px; text-anchor:end;\" transform=\"rotate(0, 156.66, 946.688)\" x=\"156.66\" y=\"946.688\">0.50</text>\n",
       "</g>\n",
       "<g clip-path=\"url(#clip8700)\">\n",
       "<text style=\"fill:#000000; fill-opacity:1; font-family:Arial,Helvetica Neue,Helvetica,sans-serif; font-size:48px; text-anchor:end;\" transform=\"rotate(0, 156.66, 706.08)\" x=\"156.66\" y=\"706.08\">0.75</text>\n",
       "</g>\n",
       "<g clip-path=\"url(#clip8700)\">\n",
       "<text style=\"fill:#000000; fill-opacity:1; font-family:Arial,Helvetica Neue,Helvetica,sans-serif; font-size:48px; text-anchor:end;\" transform=\"rotate(0, 156.66, 465.471)\" x=\"156.66\" y=\"465.471\">1.00</text>\n",
       "</g>\n",
       "<g clip-path=\"url(#clip8700)\">\n",
       "<text style=\"fill:#000000; fill-opacity:1; font-family:Arial,Helvetica Neue,Helvetica,sans-serif; font-size:48px; text-anchor:end;\" transform=\"rotate(0, 156.66, 224.863)\" x=\"156.66\" y=\"224.863\">1.25</text>\n",
       "</g>\n",
       "<polyline clip-path=\"url(#clip8702)\" style=\"stroke:#0000ff; stroke-width:4; stroke-opacity:1; fill:none\" points=\"\n",
       "  242.135,1410.41 283.954,1410.41 325.773,1410.41 367.593,1410.41 409.412,1410.41 451.231,1410.41 493.051,1410.41 534.87,1410.41 576.689,1410.41 618.509,1410.41 \n",
       "  660.328,1410.41 702.147,1410.41 743.967,1410.41 785.786,1410.41 827.605,1410.41 869.425,1410.41 911.244,1410.41 953.063,1410.41 994.883,1410.41 1036.7,1410.41 \n",
       "  1078.52,1410.41 1120.34,1410.41 1162.16,1410.41 1203.98,1410.41 1245.8,1410.41 1287.62,88.0053 1329.44,88.0053 1371.26,661.232 1413.08,661.232 1454.9,661.232 \n",
       "  1496.71,661.232 1538.53,661.232 1580.35,661.232 1622.17,661.232 1663.99,661.232 1705.81,510.409 1747.63,510.409 1789.45,510.409 1831.27,510.409 1873.09,510.409 \n",
       "  1914.91,510.409 1956.73,510.409 1998.55,510.409 2040.37,510.409 2082.18,510.409 2124,510.409 2165.82,1204.86 2207.64,1204.86 2249.46,1204.86 2291.28,1204.86 \n",
       "  \n",
       "  \"/>\n",
       "<polyline clip-path=\"url(#clip8702)\" style=\"stroke:#ff0000; stroke-width:4; stroke-opacity:1; fill:none\" points=\"\n",
       "  242.135,1446.01 283.954,1417.01 325.773,1395.43 367.593,1403.11 409.412,1396.74 451.231,1393.3 493.051,1384.21 534.87,1445.52 576.689,1446.71 618.509,1391 \n",
       "  660.328,1431.69 702.147,1428.38 743.967,1403.11 785.786,1412.62 827.605,1397.44 869.425,1361.43 911.244,1402.56 953.063,1420.55 994.883,1386.76 1036.7,1397.03 \n",
       "  1078.52,1424.3 1120.34,1389.53 1162.16,1433.3 1203.98,1422.92 1245.8,1431.69 1287.62,91.7711 1329.44,110.302 1371.26,651.037 1413.08,657.9 1454.9,692.988 \n",
       "  1496.71,670.884 1538.53,640.058 1580.35,658.412 1622.17,669.046 1663.99,692.929 1705.81,483.68 1747.63,550.472 1789.45,463.636 1831.27,532.96 1873.09,556.787 \n",
       "  1914.91,521.002 1956.73,515.742 1998.55,506.167 2040.37,476.348 2082.18,474.738 2124,538.711 2165.82,1210.03 2207.64,1220.61 2249.46,1220.37 2291.28,1230.07 \n",
       "  \n",
       "  \"/>\n",
       "<polyline clip-path=\"url(#clip8702)\" style=\"stroke:#008000; stroke-width:4; stroke-opacity:1; fill:none\" points=\"\n",
       "  242.135,1409.21 283.954,1409.21 325.773,1409.21 367.593,1409.21 409.412,1409.21 451.231,1409.22 493.051,1409.22 534.87,1409.22 576.689,1409.22 618.509,1409.22 \n",
       "  660.328,1409.22 702.147,1409.22 743.967,1409.21 785.786,1409.21 827.605,1409.21 869.425,1409.21 911.244,1409.21 953.063,1409.21 994.883,1409.21 1036.7,1409.21 \n",
       "  1078.52,1409.21 1120.34,1409.21 1162.16,1409.21 1203.98,1409.21 1245.8,1409.21 1287.62,212.5 1329.44,212.498 1371.26,633.636 1413.08,633.634 1454.9,633.636 \n",
       "  1496.71,633.636 1538.53,633.637 1580.35,633.638 1622.17,633.639 1663.99,633.64 1705.81,522.423 1747.63,522.42 1789.45,522.423 1831.27,522.423 1873.09,522.424 \n",
       "  1914.91,522.424 1956.73,522.424 1998.55,522.425 2040.37,522.426 2082.18,522.426 2124,577.732 2165.82,1191.34 2207.64,1191.33 2249.46,1191.33 2291.28,1191.33 \n",
       "  \n",
       "  \"/>\n",
       "<path clip-path=\"url(#clip8700)\" d=\"\n",
       "M1721.05 372.684 L2280.76 372.684 L2280.76 130.764 L1721.05 130.764  Z\n",
       "  \" fill=\"#ffffff\" fill-rule=\"evenodd\" fill-opacity=\"1\"/>\n",
       "<polyline clip-path=\"url(#clip8700)\" style=\"stroke:#000000; stroke-width:4; stroke-opacity:1; fill:none\" points=\"\n",
       "  1721.05,372.684 2280.76,372.684 2280.76,130.764 1721.05,130.764 1721.05,372.684 \n",
       "  \"/>\n",
       "<polyline clip-path=\"url(#clip8700)\" style=\"stroke:#0000ff; stroke-width:4; stroke-opacity:1; fill:none\" points=\"\n",
       "  1745.05,191.244 1889.05,191.244 \n",
       "  \"/>\n",
       "<g clip-path=\"url(#clip8700)\">\n",
       "<text style=\"fill:#000000; fill-opacity:1; font-family:Arial,Helvetica Neue,Helvetica,sans-serif; font-size:48px; text-anchor:start;\" transform=\"rotate(0, 1913.05, 208.744)\" x=\"1913.05\" y=\"208.744\">Original</text>\n",
       "</g>\n",
       "<polyline clip-path=\"url(#clip8700)\" style=\"stroke:#ff0000; stroke-width:4; stroke-opacity:1; fill:none\" points=\"\n",
       "  1745.05,251.724 1889.05,251.724 \n",
       "  \"/>\n",
       "<g clip-path=\"url(#clip8700)\">\n",
       "<text style=\"fill:#000000; fill-opacity:1; font-family:Arial,Helvetica Neue,Helvetica,sans-serif; font-size:48px; text-anchor:start;\" transform=\"rotate(0, 1913.05, 269.224)\" x=\"1913.05\" y=\"269.224\">Gamma = 0.01</text>\n",
       "</g>\n",
       "<polyline clip-path=\"url(#clip8700)\" style=\"stroke:#008000; stroke-width:4; stroke-opacity:1; fill:none\" points=\"\n",
       "  1745.05,312.204 1889.05,312.204 \n",
       "  \"/>\n",
       "<g clip-path=\"url(#clip8700)\">\n",
       "<text style=\"fill:#000000; fill-opacity:1; font-family:Arial,Helvetica Neue,Helvetica,sans-serif; font-size:48px; text-anchor:start;\" transform=\"rotate(0, 1913.05, 329.704)\" x=\"1913.05\" y=\"329.704\">Gamma = 10.0</text>\n",
       "</g>\n",
       "</svg>\n"
      ]
     },
     "execution_count": 133,
     "metadata": {},
     "output_type": "execute_result"
    }
   ],
   "source": [
    "plot(x0, label = \"Original\", color = \"blue\")\n",
    "plot!(x_low, label = \"Gamma = 0.01\", color = \"red\")\n",
    "plot!(x_high, label = \"Gamma = 10.0\", color = \"green\")"
   ]
  },
  {
   "cell_type": "markdown",
   "metadata": {},
   "source": [
    "Just like the last comparison we made, for $\\gamma$=10.0, we see a better fit that corresponds to the original signal. At $\\gamma$=0.01 we see a lot of noise and less congruency when compared to the original, although it matches exactly in some parts."
   ]
  },
  {
   "cell_type": "markdown",
   "metadata": {},
   "source": [
    "### f"
   ]
  },
  {
   "cell_type": "code",
   "execution_count": 134,
   "metadata": {},
   "outputs": [
    {
     "data": {
      "image/svg+xml": [
       "<?xml version=\"1.0\" encoding=\"utf-8\"?>\n",
       "<svg xmlns=\"http://www.w3.org/2000/svg\" xmlns:xlink=\"http://www.w3.org/1999/xlink\" width=\"600\" height=\"400\" viewBox=\"0 0 2400 1600\">\n",
       "<defs>\n",
       "  <clipPath id=\"clip9100\">\n",
       "    <rect x=\"0\" y=\"0\" width=\"2400\" height=\"1600\"/>\n",
       "  </clipPath>\n",
       "</defs>\n",
       "<path clip-path=\"url(#clip9100)\" d=\"\n",
       "M0 1600 L2400 1600 L2400 0 L0 0  Z\n",
       "  \" fill=\"#ffffff\" fill-rule=\"evenodd\" fill-opacity=\"1\"/>\n",
       "<defs>\n",
       "  <clipPath id=\"clip9101\">\n",
       "    <rect x=\"480\" y=\"0\" width=\"1681\" height=\"1600\"/>\n",
       "  </clipPath>\n",
       "</defs>\n",
       "<path clip-path=\"url(#clip9100)\" d=\"\n",
       "M175.611 1425.62 L2352.76 1425.62 L2352.76 121.675 L175.611 121.675  Z\n",
       "  \" fill=\"#ffffff\" fill-rule=\"evenodd\" fill-opacity=\"1\"/>\n",
       "<defs>\n",
       "  <clipPath id=\"clip9102\">\n",
       "    <rect x=\"175\" y=\"121\" width=\"2178\" height=\"1305\"/>\n",
       "  </clipPath>\n",
       "</defs>\n",
       "<polyline clip-path=\"url(#clip9102)\" style=\"stroke:#000000; stroke-width:2; stroke-opacity:0.1; fill:none\" points=\"\n",
       "  235.093,1425.62 235.093,121.675 \n",
       "  \"/>\n",
       "<polyline clip-path=\"url(#clip9102)\" style=\"stroke:#000000; stroke-width:2; stroke-opacity:0.1; fill:none\" points=\"\n",
       "  653.571,1425.62 653.571,121.675 \n",
       "  \"/>\n",
       "<polyline clip-path=\"url(#clip9102)\" style=\"stroke:#000000; stroke-width:2; stroke-opacity:0.1; fill:none\" points=\"\n",
       "  1072.05,1425.62 1072.05,121.675 \n",
       "  \"/>\n",
       "<polyline clip-path=\"url(#clip9102)\" style=\"stroke:#000000; stroke-width:2; stroke-opacity:0.1; fill:none\" points=\"\n",
       "  1490.53,1425.62 1490.53,121.675 \n",
       "  \"/>\n",
       "<polyline clip-path=\"url(#clip9102)\" style=\"stroke:#000000; stroke-width:2; stroke-opacity:0.1; fill:none\" points=\"\n",
       "  1909.01,1425.62 1909.01,121.675 \n",
       "  \"/>\n",
       "<polyline clip-path=\"url(#clip9102)\" style=\"stroke:#000000; stroke-width:2; stroke-opacity:0.1; fill:none\" points=\"\n",
       "  2327.49,1425.62 2327.49,121.675 \n",
       "  \"/>\n",
       "<polyline clip-path=\"url(#clip9102)\" style=\"stroke:#000000; stroke-width:2; stroke-opacity:0.1; fill:none\" points=\"\n",
       "  175.611,1388.72 2352.76,1388.72 \n",
       "  \"/>\n",
       "<polyline clip-path=\"url(#clip9102)\" style=\"stroke:#000000; stroke-width:2; stroke-opacity:0.1; fill:none\" points=\"\n",
       "  175.611,1087.33 2352.76,1087.33 \n",
       "  \"/>\n",
       "<polyline clip-path=\"url(#clip9102)\" style=\"stroke:#000000; stroke-width:2; stroke-opacity:0.1; fill:none\" points=\"\n",
       "  175.611,785.948 2352.76,785.948 \n",
       "  \"/>\n",
       "<polyline clip-path=\"url(#clip9102)\" style=\"stroke:#000000; stroke-width:2; stroke-opacity:0.1; fill:none\" points=\"\n",
       "  175.611,484.564 2352.76,484.564 \n",
       "  \"/>\n",
       "<polyline clip-path=\"url(#clip9102)\" style=\"stroke:#000000; stroke-width:2; stroke-opacity:0.1; fill:none\" points=\"\n",
       "  175.611,183.18 2352.76,183.18 \n",
       "  \"/>\n",
       "<polyline clip-path=\"url(#clip9100)\" style=\"stroke:#000000; stroke-width:4; stroke-opacity:1; fill:none\" points=\"\n",
       "  175.611,1425.62 2352.76,1425.62 \n",
       "  \"/>\n",
       "<polyline clip-path=\"url(#clip9100)\" style=\"stroke:#000000; stroke-width:4; stroke-opacity:1; fill:none\" points=\"\n",
       "  175.611,1425.62 175.611,121.675 \n",
       "  \"/>\n",
       "<polyline clip-path=\"url(#clip9100)\" style=\"stroke:#000000; stroke-width:4; stroke-opacity:1; fill:none\" points=\"\n",
       "  235.093,1425.62 235.093,1409.97 \n",
       "  \"/>\n",
       "<polyline clip-path=\"url(#clip9100)\" style=\"stroke:#000000; stroke-width:4; stroke-opacity:1; fill:none\" points=\"\n",
       "  653.571,1425.62 653.571,1409.97 \n",
       "  \"/>\n",
       "<polyline clip-path=\"url(#clip9100)\" style=\"stroke:#000000; stroke-width:4; stroke-opacity:1; fill:none\" points=\"\n",
       "  1072.05,1425.62 1072.05,1409.97 \n",
       "  \"/>\n",
       "<polyline clip-path=\"url(#clip9100)\" style=\"stroke:#000000; stroke-width:4; stroke-opacity:1; fill:none\" points=\"\n",
       "  1490.53,1425.62 1490.53,1409.97 \n",
       "  \"/>\n",
       "<polyline clip-path=\"url(#clip9100)\" style=\"stroke:#000000; stroke-width:4; stroke-opacity:1; fill:none\" points=\"\n",
       "  1909.01,1425.62 1909.01,1409.97 \n",
       "  \"/>\n",
       "<polyline clip-path=\"url(#clip9100)\" style=\"stroke:#000000; stroke-width:4; stroke-opacity:1; fill:none\" points=\"\n",
       "  2327.49,1425.62 2327.49,1409.97 \n",
       "  \"/>\n",
       "<polyline clip-path=\"url(#clip9100)\" style=\"stroke:#000000; stroke-width:4; stroke-opacity:1; fill:none\" points=\"\n",
       "  175.611,1388.72 201.736,1388.72 \n",
       "  \"/>\n",
       "<polyline clip-path=\"url(#clip9100)\" style=\"stroke:#000000; stroke-width:4; stroke-opacity:1; fill:none\" points=\"\n",
       "  175.611,1087.33 201.736,1087.33 \n",
       "  \"/>\n",
       "<polyline clip-path=\"url(#clip9100)\" style=\"stroke:#000000; stroke-width:4; stroke-opacity:1; fill:none\" points=\"\n",
       "  175.611,785.948 201.736,785.948 \n",
       "  \"/>\n",
       "<polyline clip-path=\"url(#clip9100)\" style=\"stroke:#000000; stroke-width:4; stroke-opacity:1; fill:none\" points=\"\n",
       "  175.611,484.564 201.736,484.564 \n",
       "  \"/>\n",
       "<polyline clip-path=\"url(#clip9100)\" style=\"stroke:#000000; stroke-width:4; stroke-opacity:1; fill:none\" points=\"\n",
       "  175.611,183.18 201.736,183.18 \n",
       "  \"/>\n",
       "<g clip-path=\"url(#clip9100)\">\n",
       "<text style=\"fill:#000000; fill-opacity:1; font-family:Arial,Helvetica Neue,Helvetica,sans-serif; font-size:48px; text-anchor:middle;\" transform=\"rotate(0, 235.093, 1479.62)\" x=\"235.093\" y=\"1479.62\">0</text>\n",
       "</g>\n",
       "<g clip-path=\"url(#clip9100)\">\n",
       "<text style=\"fill:#000000; fill-opacity:1; font-family:Arial,Helvetica Neue,Helvetica,sans-serif; font-size:48px; text-anchor:middle;\" transform=\"rotate(0, 653.571, 1479.62)\" x=\"653.571\" y=\"1479.62\">100</text>\n",
       "</g>\n",
       "<g clip-path=\"url(#clip9100)\">\n",
       "<text style=\"fill:#000000; fill-opacity:1; font-family:Arial,Helvetica Neue,Helvetica,sans-serif; font-size:48px; text-anchor:middle;\" transform=\"rotate(0, 1072.05, 1479.62)\" x=\"1072.05\" y=\"1479.62\">200</text>\n",
       "</g>\n",
       "<g clip-path=\"url(#clip9100)\">\n",
       "<text style=\"fill:#000000; fill-opacity:1; font-family:Arial,Helvetica Neue,Helvetica,sans-serif; font-size:48px; text-anchor:middle;\" transform=\"rotate(0, 1490.53, 1479.62)\" x=\"1490.53\" y=\"1479.62\">300</text>\n",
       "</g>\n",
       "<g clip-path=\"url(#clip9100)\">\n",
       "<text style=\"fill:#000000; fill-opacity:1; font-family:Arial,Helvetica Neue,Helvetica,sans-serif; font-size:48px; text-anchor:middle;\" transform=\"rotate(0, 1909.01, 1479.62)\" x=\"1909.01\" y=\"1479.62\">400</text>\n",
       "</g>\n",
       "<g clip-path=\"url(#clip9100)\">\n",
       "<text style=\"fill:#000000; fill-opacity:1; font-family:Arial,Helvetica Neue,Helvetica,sans-serif; font-size:48px; text-anchor:middle;\" transform=\"rotate(0, 2327.49, 1479.62)\" x=\"2327.49\" y=\"1479.62\">500</text>\n",
       "</g>\n",
       "<g clip-path=\"url(#clip9100)\">\n",
       "<text style=\"fill:#000000; fill-opacity:1; font-family:Arial,Helvetica Neue,Helvetica,sans-serif; font-size:48px; text-anchor:end;\" transform=\"rotate(0, 151.611, 1406.22)\" x=\"151.611\" y=\"1406.22\">0</text>\n",
       "</g>\n",
       "<g clip-path=\"url(#clip9100)\">\n",
       "<text style=\"fill:#000000; fill-opacity:1; font-family:Arial,Helvetica Neue,Helvetica,sans-serif; font-size:48px; text-anchor:end;\" transform=\"rotate(0, 151.611, 1104.83)\" x=\"151.611\" y=\"1104.83\">1</text>\n",
       "</g>\n",
       "<g clip-path=\"url(#clip9100)\">\n",
       "<text style=\"fill:#000000; fill-opacity:1; font-family:Arial,Helvetica Neue,Helvetica,sans-serif; font-size:48px; text-anchor:end;\" transform=\"rotate(0, 151.611, 803.448)\" x=\"151.611\" y=\"803.448\">2</text>\n",
       "</g>\n",
       "<g clip-path=\"url(#clip9100)\">\n",
       "<text style=\"fill:#000000; fill-opacity:1; font-family:Arial,Helvetica Neue,Helvetica,sans-serif; font-size:48px; text-anchor:end;\" transform=\"rotate(0, 151.611, 502.064)\" x=\"151.611\" y=\"502.064\">3</text>\n",
       "</g>\n",
       "<g clip-path=\"url(#clip9100)\">\n",
       "<text style=\"fill:#000000; fill-opacity:1; font-family:Arial,Helvetica Neue,Helvetica,sans-serif; font-size:48px; text-anchor:end;\" transform=\"rotate(0, 151.611, 200.68)\" x=\"151.611\" y=\"200.68\">4</text>\n",
       "</g>\n",
       "<g clip-path=\"url(#clip9100)\">\n",
       "<text style=\"fill:#000000; fill-opacity:1; font-family:Arial,Helvetica Neue,Helvetica,sans-serif; font-size:84px; text-anchor:middle;\" transform=\"rotate(0, 1264.18, 73.2)\" x=\"1264.18\" y=\"73.2\">Pareto Optimality Curve</text>\n",
       "</g>\n",
       "<g clip-path=\"url(#clip9100)\">\n",
       "<text style=\"fill:#000000; fill-opacity:1; font-family:Arial,Helvetica Neue,Helvetica,sans-serif; font-size:66px; text-anchor:middle;\" transform=\"rotate(0, 1264.18, 1559.48)\" x=\"1264.18\" y=\"1559.48\">f2</text>\n",
       "</g>\n",
       "<g clip-path=\"url(#clip9100)\">\n",
       "<text style=\"fill:#000000; fill-opacity:1; font-family:Arial,Helvetica Neue,Helvetica,sans-serif; font-size:66px; text-anchor:middle;\" transform=\"rotate(-90, 89.2861, 773.647)\" x=\"89.2861\" y=\"773.647\">f1</text>\n",
       "</g>\n",
       "<polyline clip-path=\"url(#clip9102)\" style=\"stroke:#009af9; stroke-width:4; stroke-opacity:1; fill:none\" points=\"\n",
       "  237.228,158.579 237.228,158.756 237.228,158.962 237.228,159.195 237.228,159.464 237.228,159.774 237.228,160.13 237.228,160.54 237.228,161.006 237.228,161.547 \n",
       "  237.228,162.174 237.228,162.89 237.228,163.714 237.228,164.656 237.228,165.744 237.228,166.995 237.229,168.435 237.229,170.077 237.229,171.617 237.229,173.285 \n",
       "  237.23,175.198 237.23,177.051 237.231,179.041 237.232,181.32 237.233,184.038 237.234,187.178 237.236,190.973 237.238,195.462 237.242,200.624 237.246,206.559 \n",
       "  237.252,213.383 237.259,221.169 237.269,229.871 237.282,239.868 237.299,251.072 237.318,262.442 237.343,274.947 237.372,287.731 237.406,300.569 237.447,314.383 \n",
       "  237.497,328.926 237.559,344.48 237.612,356.251 237.677,368.672 237.765,383.123 237.882,400.062 238.033,419.135 238.212,438.679 238.39,455.652 238.573,470.748 \n",
       "  238.793,486.598 239.037,501.947 239.256,513.891 239.468,523.92 239.73,534.688 240.055,546.339 240.263,552.827 240.521,559.803 240.803,566.495 241.084,572.19 \n",
       "  241.454,578.822 241.92,586.051 242.505,593.932 243.265,602.814 244.267,613.031 245.59,624.742 247.281,637.782 249.514,652.746 252.468,669.958 256.373,689.754 \n",
       "  261.536,712.51 268.358,738.673 277.38,768.751 289.305,803.336 305.073,843.115 325.925,888.867 347.088,929.37 359.331,950.231 366.764,960.953 376.59,973.292 \n",
       "  389.592,987.49 406.816,1003.85 429.558,1022.63 459.621,1044.23 499.358,1069.07 551.891,1097.62 621.337,1130.45 709.361,1166.71 792.081,1196.64 821.379,1205.76 \n",
       "  860.116,1216.23 910.173,1228.02 976.248,1241.54 1063.59,1257.08 1179.06,1274.95 1331.7,1295.5 1533.48,1319.13 1800.22,1346.29 2152.84,1377.52 2291.14,1388.71 \n",
       "  \n",
       "  \"/>\n",
       "<path clip-path=\"url(#clip9100)\" d=\"\n",
       "M1719.75 326.155 L2280.76 326.155 L2280.76 205.195 L1719.75 205.195  Z\n",
       "  \" fill=\"#ffffff\" fill-rule=\"evenodd\" fill-opacity=\"1\"/>\n",
       "<polyline clip-path=\"url(#clip9100)\" style=\"stroke:#000000; stroke-width:4; stroke-opacity:1; fill:none\" points=\"\n",
       "  1719.75,326.155 2280.76,326.155 2280.76,205.195 1719.75,205.195 1719.75,326.155 \n",
       "  \"/>\n",
       "<polyline clip-path=\"url(#clip9100)\" style=\"stroke:#009af9; stroke-width:4; stroke-opacity:1; fill:none\" points=\"\n",
       "  1743.75,265.675 1887.75,265.675 \n",
       "  \"/>\n",
       "<g clip-path=\"url(#clip9100)\">\n",
       "<text style=\"fill:#000000; fill-opacity:1; font-family:Arial,Helvetica Neue,Helvetica,sans-serif; font-size:48px; text-anchor:start;\" transform=\"rotate(0, 1911.75, 283.175)\" x=\"1911.75\" y=\"283.175\">Pareto Frontier</text>\n",
       "</g>\n",
       "</svg>\n"
      ]
     },
     "execution_count": 134,
     "metadata": {},
     "output_type": "execute_result"
    }
   ],
   "source": [
    "gx = exp10.(range(-3, stop=3,length=100));\n",
    "f1 = Array{Float64}(undef,100);\n",
    "f2 = Array{Float64}(undef,100);\n",
    "i = 1;\n",
    "for g in gx\n",
    "    x = Variable(size(A)[2],1);\n",
    "    ans = minimize(0.5*sumsquares(A * x - b)+g*norm(D*x,1));\n",
    "    solve!(ans, SCSSolver(verbose=0));\n",
    "    f1[i] = 0.5*norm((A*x.value)-b)^2;\n",
    "    f2[i] = norm(D*x.value, 1);\n",
    "    i += 1;\n",
    "end\n",
    "plot(f1, f2, title=\"Pareto Optimality Curve\", label=\"Pareto Frontier\", \n",
    "    xaxis= \"f2\", yaxis = \"f1\")"
   ]
  },
  {
   "cell_type": "markdown",
   "metadata": {},
   "source": [
    "## Question 3"
   ]
  },
  {
   "cell_type": "markdown",
   "metadata": {},
   "source": [
    "### a"
   ]
  },
  {
   "cell_type": "markdown",
   "metadata": {},
   "source": [
    "We are given that $f(x) := \\sum_{i=1}^{m}(||x-c_i||_2^2-d_i^2)^2$. <br>\n",
    "\n",
    "$\\therefore f(x) = (||x-c_1||_2^2-d_1^2)^2 + (||x-c_2||_2^2-d_2^2)^2 + \\dots + (||x-c_m||_2^2-d_m^2)^2$ <br>\n",
    "\n",
    "We are assuming $n = 2$."
   ]
  },
  {
   "cell_type": "markdown",
   "metadata": {},
   "source": [
    "Hence, $f(x) = ((x-c_{1,1})^2+(x-c_{2,1})^2-d_1^2)^2+\\dots+((x-c_{1,m})^2+(x-c_{2,m})^2-d_m^2)^2$   "
   ]
  },
  {
   "cell_type": "markdown",
   "metadata": {},
   "source": [
    "$\\nabla f(x) = 2((x-c_{1,1})^2+(x-c_{2,1})^2-d_1^2)\\times(2(x-c_{1,m})+2(x-c_{2,m}))+\\dots+2((x-c_{1,m})^2+(x-c_{2,m})^2-d_m^2)\\times(2(x-c_{1,m})+2(x-c_{2,m}))$"
   ]
  },
  {
   "cell_type": "markdown",
   "metadata": {},
   "source": [
    "Finally, <br>\n",
    "$\\nabla f(x) = 2\\sum_{i=1}^{m}(2(x-c_{1,i})+2(x-c_{3,i}))(||x-c_i||_2^2-d_i^2)$. <br>\n",
    "$\\nabla f(x) = 4\\sum_{i=1}^{m}((x-c_{1,i})+(x-c_{2,i}))(||x-c_i||_2^2-d_i^2)$."
   ]
  },
  {
   "cell_type": "markdown",
   "metadata": {},
   "source": [
    "### b"
   ]
  },
  {
   "cell_type": "markdown",
   "metadata": {},
   "source": [
    "We can define $r(x) = ||x-c_i||_2^2 -  d_i^2$.\n",
    "Therefore, <br> $\\nabla r(x) = 2(x-c_{1,i})+2(x-c_{2,i})$. "
   ]
  },
  {
   "cell_type": "markdown",
   "metadata": {},
   "source": [
    "$\\therefore$ We can write<br>\n",
    "$J(x) = \\begin{bmatrix}\n",
    "2(x_1-c_{1,1}) & 2(x_2-c_{2,1})\\\\\n",
    "\\vdots & \\vdots\\\\\n",
    "2(x_1-c_{1,m}) & 2(x_2-c_{1,m})\n",
    "\\end{bmatrix}$"
   ]
  },
  {
   "cell_type": "markdown",
   "metadata": {},
   "source": [
    "### c"
   ]
  },
  {
   "cell_type": "markdown",
   "metadata": {},
   "source": [
    "### d"
   ]
  },
  {
   "cell_type": "markdown",
   "metadata": {},
   "source": [
    "#### (i) Gradient  Descent"
   ]
  },
  {
   "cell_type": "code",
   "execution_count": 219,
   "metadata": {},
   "outputs": [
    {
     "data": {
      "text/plain": [
       "2×101 Adjoint{Float64,Array{Float64,2}}:\n",
       " 1000.0  -1000.68    999.624  -998.8    …  -49.4586  -49.2223  -48.9894\n",
       " -500.0   -250.749  -219.382  -198.388     -49.5371  -49.2997  -49.0657"
      ]
     },
     "metadata": {},
     "output_type": "display_data"
    }
   ],
   "source": [
    "c = load(\"hw2_p3_C.jld\", \"data\");\n",
    "d = load(\"hw2_p3_d.jld\", \"data\");\n",
    "x = load(\"hw2_p3_signal.jld\", \"data\");\n",
    "xk = zeros(Float64,(101,2));\n",
    "alp  = 10^(-7.301365);\n",
    "xk[1,1] = 1000;\n",
    "xk[1,2]  = -500;\n",
    "for i in 1:100\n",
    "    fx1 = 0;\n",
    "    fx2 = 0;\n",
    "    for j in 1:5\n",
    "        fx1 += ((xk[i,1]-c[1,j]+xk[i,1]-c[2,j]))*\n",
    "        (norm(xk[i,1]-c[j])^2-d[j]^2);\n",
    "        fx2 += ((xk[i,2]-c[1,j]+xk[i,2]-c[2,j]))*\n",
    "        (norm(xk[i,2]-c[j])^2-d[j]^2);\n",
    "    end\n",
    "    xk[i+1, 1] = xk[i,1]-(alp*4*fx1);\n",
    "    xk[i+1, 2] = xk[i,2]-(alp*4*fx2);\n",
    "end\n",
    "display(xk');"
   ]
  },
  {
   "cell_type": "markdown",
   "metadata": {},
   "source": [
    "We find that if we set $\\bar{\\alpha} = 10^{-7.301365}$, we get a non-diverging solution. As evident from the last 2 values, that we see a convergance."
   ]
  }
 ],
 "metadata": {
  "kernelspec": {
   "display_name": "Julia 1.3.1",
   "language": "julia",
   "name": "julia-1.3"
  },
  "language_info": {
   "file_extension": ".jl",
   "mimetype": "application/julia",
   "name": "julia",
   "version": "1.3.1"
  }
 },
 "nbformat": 4,
 "nbformat_minor": 2
}
